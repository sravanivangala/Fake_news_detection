{
  "nbformat": 4,
  "nbformat_minor": 0,
  "metadata": {
    "colab": {
      "name": "data_pre_processing.ipynb",
      "provenance": [],
      "authorship_tag": "ABX9TyPqvwxOv6BOvddUAdHrMZUR"
    },
    "kernelspec": {
      "name": "python3",
      "display_name": "Python 3"
    },
    "language_info": {
      "name": "python"
    }
  },
  "cells": [
    {
      "cell_type": "code",
      "metadata": {
        "id": "4OtN3HQbdIfY"
      },
      "source": [
        "import pandas as pd"
      ],
      "execution_count": 1,
      "outputs": []
    },
    {
      "cell_type": "code",
      "metadata": {
        "colab": {
          "base_uri": "https://localhost:8080/"
        },
        "id": "JnFS0K9nkmL_",
        "outputId": "a6456996-0b50-46d9-b1d7-7fee209d737d"
      },
      "source": [
        "import nltk\n",
        "nltk.download('punkt')"
      ],
      "execution_count": 32,
      "outputs": [
        {
          "output_type": "stream",
          "name": "stdout",
          "text": [
            "[nltk_data] Downloading package punkt to /root/nltk_data...\n",
            "[nltk_data]   Unzipping tokenizers/punkt.zip.\n"
          ]
        },
        {
          "output_type": "execute_result",
          "data": {
            "text/plain": [
              "True"
            ]
          },
          "metadata": {},
          "execution_count": 32
        }
      ]
    },
    {
      "cell_type": "code",
      "metadata": {
        "id": "70536zQrd-EB"
      },
      "source": [
        "df=pd.read_csv('/train.csv', engine='python')"
      ],
      "execution_count": 18,
      "outputs": []
    },
    {
      "cell_type": "code",
      "metadata": {
        "id": "E7NSnbJTeLKd"
      },
      "source": [
        "\n",
        "import csv\n",
        "import numpy as np\n",
        "import nltk\n",
        "from nltk.stem import SnowballStemmer\n",
        "from nltk.stem.porter import PorterStemmer\n",
        "from nltk.tokenize import word_tokenize\n",
        "import seaborn as sb\n",
        "\n",
        "#reading data files \n",
        "\n",
        "#test_filename = 'test.csv'\n",
        "#train_filename = '/train.csv'\n",
        "#valid_filename = 'valid.csv'\n",
        "\n",
        "train_news = df \n",
        "#pd.read_csv(train_filename)\n",
        "#test_news = pd.read_csv(test_filename)\n",
        "#valid_news = pd.read_csv(valid_filename)\n"
      ],
      "execution_count": 4,
      "outputs": []
    },
    {
      "cell_type": "code",
      "metadata": {
        "colab": {
          "base_uri": "https://localhost:8080/"
        },
        "id": "B3k1qrXCeTqd",
        "outputId": "24e5acc9-62ac-44b1-f7a9-ec5b8289817c"
      },
      "source": [
        "#data observation\n",
        "def data_obs():\n",
        "    print(\"training dataset size:\")\n",
        "    print(train_news.shape)\n",
        "    print(train_news.head(10))\n",
        "\n",
        "    #below dataset were used for testing and validation purposes\n",
        "    #print(test_news.shape)\n",
        "    #print(test_news.head(10))\n",
        "    \n",
        "    #print(valid_news.shape)\n",
        "    #print(valid_news.head(10))\n",
        "\n",
        "\n",
        "data_obs()\n"
      ],
      "execution_count": 6,
      "outputs": [
        {
          "output_type": "stream",
          "name": "stdout",
          "text": [
            "training dataset size:\n",
            "(20877, 5)\n",
            "    id  ... label\n",
            "0  0.0  ...   1.0\n",
            "1  1.0  ...   0.0\n",
            "2  2.0  ...   1.0\n",
            "3  3.0  ...   1.0\n",
            "4  4.0  ...   1.0\n",
            "5  5.0  ...   0.0\n",
            "6  6.0  ...   1.0\n",
            "7  7.0  ...   0.0\n",
            "8  8.0  ...   0.0\n",
            "9  9.0  ...   0.0\n",
            "\n",
            "[10 rows x 5 columns]\n"
          ]
        }
      ]
    },
    {
      "cell_type": "code",
      "metadata": {
        "colab": {
          "base_uri": "https://localhost:8080/",
          "height": 348
        },
        "id": "CTLu5N1UeXLp",
        "outputId": "bc92fdae-ed43-4afb-ccd1-910347cd8a95"
      },
      "source": [
        "def create_distribution(dataFile):\n",
        "    \n",
        "    return sb.countplot(x='label', data=dataFile, palette='hls')\n",
        "\n",
        "create_distribution(train_news)\n",
        "print(\"number of records with fake and real news: \")\n",
        "df['label'].value_counts()"
      ],
      "execution_count": 13,
      "outputs": [
        {
          "output_type": "stream",
          "name": "stdout",
          "text": [
            "number of records with fake and real news: \n"
          ]
        },
        {
          "output_type": "execute_result",
          "data": {
            "text/plain": [
              "1.0    10369\n",
              "0.0    10350\n",
              "Name: label, dtype: int64"
            ]
          },
          "metadata": {},
          "execution_count": 13
        },
        {
          "output_type": "display_data",
          "data": {
            "image/png": "[encoded data removed]",
            "text/plain": [
              "<Figure size 432x288 with 1 Axes>"
            ]
          },
          "metadata": {
            "needs_background": "light"
          }
        }
      ]
    },
    {
      "cell_type": "code",
      "metadata": {
        "colab": {
          "base_uri": "https://localhost:8080/"
        },
        "id": "cJ6I-xUXecoh",
        "outputId": "d2c2ae5f-1c9e-4b5d-b1e2-e60348f61148"
      },
      "source": [
        "#data integrity check (missing label values)\n",
        "#none of the datasets contains missing values therefore no cleaning required\n",
        "def data_qualityCheck():\n",
        "    \n",
        "    print(\"Checking data qualitites...\")\n",
        "    train_news.isnull().sum()\n",
        "    train_news.info()\n",
        "        \n",
        "    print(\"check finished.\")\n",
        "\n",
        "    #below datasets were used to \n",
        "    #test_news.isnull().sum()\n",
        "    #test_news.info()\n",
        "\n",
        "    #valid_news.isnull().sum()\n",
        "    #valid_news.info()\n",
        "\n",
        "data_qualityCheck()"
      ],
      "execution_count": 16,
      "outputs": [
        {
          "output_type": "stream",
          "name": "stdout",
          "text": [
            "Checking data qualitites...\n",
            "<class 'pandas.core.frame.DataFrame'>\n",
            "RangeIndex: 20877 entries, 0 to 20876\n",
            "Data columns (total 5 columns):\n",
            " #   Column  Non-Null Count  Dtype  \n",
            "---  ------  --------------  -----  \n",
            " 0   id      20798 non-null  float64\n",
            " 1   title   20319 non-null  object \n",
            " 2   author  18841 non-null  object \n",
            " 3   text    20798 non-null  object \n",
            " 4   label   20719 non-null  float64\n",
            "dtypes: float64(2), object(3)\n",
            "memory usage: 815.6+ KB\n",
            "check finished.\n"
          ]
        }
      ]
    },
    {
      "cell_type": "code",
      "metadata": {
        "id": "0GIU7hJmkFzZ"
      },
      "source": [
        "from nltk.tokenize import sent_tokenize, word_tokenize\n",
        "news = train_news['text']\n",
        "\n",
        "train_news['cleaned text'] = word_tokenize(news)"
      ],
      "execution_count": null,
      "outputs": []
    },
    {
      "cell_type": "code",
      "metadata": {
        "id": "epIYkgq-ef70"
      },
      "source": [
        "#Stemming\n",
        "def stem_tokens(tokens, stemmer):\n",
        "    stemmed = []\n",
        "    for token in tokens:\n",
        "        stemmed.append(stemmer.stem(token))\n",
        "    return stemmed"
      ],
      "execution_count": 19,
      "outputs": []
    },
    {
      "cell_type": "code",
      "metadata": {
        "id": "xIUZiuCWi14o"
      },
      "source": [
        ""
      ],
      "execution_count": null,
      "outputs": []
    },
    {
      "cell_type": "code",
      "metadata": {
        "id": "Wh62bshoekyo"
      },
      "source": [
        "#process the data\n",
        "def process_data(data,exclude_stopword=True,stem=True):\n",
        "    tokens = [w.lower() for w in data]\n",
        "    tokens_stemmed = tokens\n",
        "    tokens_stemmed = stem_tokens(tokens, eng_stemmer)\n",
        "    tokens_stemmed = [w for w in tokens_stemmed if w not in stopwords ]\n",
        "    return tokens_stemmed"
      ],
      "execution_count": 20,
      "outputs": []
    },
    {
      "cell_type": "code",
      "metadata": {
        "id": "ZZbTbsMtenYq"
      },
      "source": [
        "#creating ngrams\n",
        "#unigram \n",
        "def create_unigram(words):\n",
        "    assert type(words) == list\n",
        "    return words"
      ],
      "execution_count": 21,
      "outputs": []
    },
    {
      "cell_type": "code",
      "metadata": {
        "id": "dxnYS4fdeqB0"
      },
      "source": [
        "#bigram\n",
        "def create_bigrams(words):\n",
        "    assert type(words) == list\n",
        "    skip = 0\n",
        "    join_str = \" \"\n",
        "    Len = len(words)\n",
        "    if Len > 1:\n",
        "        lst = []\n",
        "        for i in range(Len-1):\n",
        "            for k in range(1,skip+2):\n",
        "                if i+k < Len:\n",
        "                    lst.append(join_str.join([words[i],words[i+k]]))\n",
        "    else:\n",
        "        #set it as unigram\n",
        "        lst = create_unigram(words)\n",
        "    return lst"
      ],
      "execution_count": 22,
      "outputs": []
    },
    {
      "cell_type": "code",
      "metadata": {
        "id": "3kedpaiOes_X"
      },
      "source": [
        "porter = PorterStemmer()\n",
        "\n",
        "def tokenizer(text):\n",
        "    return text.split(\" \")\n",
        "\n",
        "\n",
        "def tokenizer_porter(text):\n",
        "    return [porter.stem(word) for word in text.split()]\n"
      ],
      "execution_count": 26,
      "outputs": []
    },
    {
      "cell_type": "code",
      "metadata": {
        "id": "P4vi1xrPmKtN"
      },
      "source": [
        ""
      ],
      "execution_count": null,
      "outputs": []
    }
  ]
}