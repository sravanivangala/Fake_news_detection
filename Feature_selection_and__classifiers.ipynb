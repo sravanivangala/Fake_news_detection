{
  "nbformat": 4,
  "nbformat_minor": 0,
  "metadata": {
    "colab": {
      "name": "Feature_selection_and _classifiers.ipynb",
      "provenance": [],
      "authorship_tag": "ABX9TyM7wFzm5r9+buvtuvCil2gU"
    },
    "kernelspec": {
      "display_name": "Python 3",
      "name": "python3"
    },
    "language_info": {
      "name": "python"
    }
  },
  "cells": [
    {
      "cell_type": "code",
      "metadata": {
        "id": "OxWNh5Odsvat"
      },
      "source": [
        "import pandas as pd"
      ],
      "execution_count": 1,
      "outputs": []
    },
    {
      "cell_type": "code",
      "metadata": {
        "id": "p946U3DMs-BW"
      },
      "source": [
        "df=pd.read_csv('/content/train.csv', engine='python')"
      ],
      "execution_count": 2,
      "outputs": []
    },
    {
      "cell_type": "code",
      "metadata": {
        "colab": {
          "base_uri": "https://localhost:8080/",
          "height": 206
        },
        "id": "_RXp1laLtxFD",
        "outputId": "b0c68675-35fa-4f6e-f275-3217abc3a4f9"
      },
      "source": [
        "df.head()"
      ],
      "execution_count": 3,
      "outputs": [
        {
          "output_type": "execute_result",
          "data": {
            "text/html": [
              "<div>\n",
              "<style scoped>\n",
              "    .dataframe tbody tr th:only-of-type {\n",
              "        vertical-align: middle;\n",
              "    }\n",
              "\n",
              "    .dataframe tbody tr th {\n",
              "        vertical-align: top;\n",
              "    }\n",
              "\n",
              "    .dataframe thead th {\n",
              "        text-align: right;\n",
              "    }\n",
              "</style>\n",
              "<table border=\"1\" class=\"dataframe\">\n",
              "  <thead>\n",
              "    <tr style=\"text-align: right;\">\n",
              "      <th></th>\n",
              "      <th>id</th>\n",
              "      <th>title</th>\n",
              "      <th>author</th>\n",
              "      <th>text</th>\n",
              "      <th>label</th>\n",
              "    </tr>\n",
              "  </thead>\n",
              "  <tbody>\n",
              "    <tr>\n",
              "      <th>0</th>\n",
              "      <td>0.0</td>\n",
              "      <td>House Dem Aide: We Didn’t Even See Comey’s Let...</td>\n",
              "      <td>Darrell Lucus</td>\n",
              "      <td>House Dem Aide: We Didn’t Even See Comey’s Let...</td>\n",
              "      <td>1.0</td>\n",
              "    </tr>\n",
              "    <tr>\n",
              "      <th>1</th>\n",
              "      <td>1.0</td>\n",
              "      <td>FLYNN: Hillary Clinton, Big Woman on Campus - ...</td>\n",
              "      <td>Daniel J. Flynn</td>\n",
              "      <td>Ever get the feeling your life circles the rou...</td>\n",
              "      <td>0.0</td>\n",
              "    </tr>\n",
              "    <tr>\n",
              "      <th>2</th>\n",
              "      <td>2.0</td>\n",
              "      <td>Why the Truth Might Get You Fired</td>\n",
              "      <td>Consortiumnews.com</td>\n",
              "      <td>Why the Truth Might Get You Fired October 29, ...</td>\n",
              "      <td>1.0</td>\n",
              "    </tr>\n",
              "    <tr>\n",
              "      <th>3</th>\n",
              "      <td>3.0</td>\n",
              "      <td>15 Civilians Killed In Single US Airstrike Hav...</td>\n",
              "      <td>Jessica Purkiss</td>\n",
              "      <td>Videos 15 Civilians Killed In Single US Airstr...</td>\n",
              "      <td>1.0</td>\n",
              "    </tr>\n",
              "    <tr>\n",
              "      <th>4</th>\n",
              "      <td>4.0</td>\n",
              "      <td>Iranian woman jailed for fictional unpublished...</td>\n",
              "      <td>Howard Portnoy</td>\n",
              "      <td>Print \\nAn Iranian woman has been sentenced to...</td>\n",
              "      <td>1.0</td>\n",
              "    </tr>\n",
              "  </tbody>\n",
              "</table>\n",
              "</div>"
            ],
            "text/plain": [
              "    id  ... label\n",
              "0  0.0  ...   1.0\n",
              "1  1.0  ...   0.0\n",
              "2  2.0  ...   1.0\n",
              "3  3.0  ...   1.0\n",
              "4  4.0  ...   1.0\n",
              "\n",
              "[5 rows x 5 columns]"
            ]
          },
          "metadata": {},
          "execution_count": 3
        }
      ]
    },
    {
      "cell_type": "code",
      "metadata": {
        "colab": {
          "base_uri": "https://localhost:8080/",
          "height": 391
        },
        "id": "yQSMTU1vm0Jc",
        "outputId": "b177ba4a-81fd-4396-9824-8ceea6ad26db"
      },
      "source": [
        "# Seaborn visualization library\n",
        "import seaborn as sns\n",
        "# Create the default pairplot\n",
        "sns.pairplot(df)"
      ],
      "execution_count": 4,
      "outputs": [
        {
          "output_type": "execute_result",
          "data": {
            "text/plain": [
              "<seaborn.axisgrid.PairGrid at 0x7f74c40b1510>"
            ]
          },
          "metadata": {},
          "execution_count": 4
        },
        {
          "output_type": "display_data",
          "data": {
            "image/png": "[encoded data removed]",
            "text/plain": [
              "<Figure size 360x360 with 6 Axes>"
            ]
          },
          "metadata": {
            "needs_background": "light"
          }
        }
      ]
    },
    {
      "cell_type": "code",
      "metadata": {
        "id": "ZmO0Zdbdt2b1"
      },
      "source": [
        "## Get the Independent Features\n",
        "\n",
        "X=df.drop('label',axis=1)"
      ],
      "execution_count": 6,
      "outputs": []
    },
    {
      "cell_type": "code",
      "metadata": {
        "colab": {
          "base_uri": "https://localhost:8080/",
          "height": 206
        },
        "id": "MCzl-mQzwrpp",
        "outputId": "ebdd60ea-7d89-4e71-f689-0cedf9fad32b"
      },
      "source": [
        "X.head()"
      ],
      "execution_count": 7,
      "outputs": [
        {
          "output_type": "execute_result",
          "data": {
            "text/html": [
              "<div>\n",
              "<style scoped>\n",
              "    .dataframe tbody tr th:only-of-type {\n",
              "        vertical-align: middle;\n",
              "    }\n",
              "\n",
              "    .dataframe tbody tr th {\n",
              "        vertical-align: top;\n",
              "    }\n",
              "\n",
              "    .dataframe thead th {\n",
              "        text-align: right;\n",
              "    }\n",
              "</style>\n",
              "<table border=\"1\" class=\"dataframe\">\n",
              "  <thead>\n",
              "    <tr style=\"text-align: right;\">\n",
              "      <th></th>\n",
              "      <th>id</th>\n",
              "      <th>title</th>\n",
              "      <th>author</th>\n",
              "      <th>text</th>\n",
              "    </tr>\n",
              "  </thead>\n",
              "  <tbody>\n",
              "    <tr>\n",
              "      <th>0</th>\n",
              "      <td>0.0</td>\n",
              "      <td>House Dem Aide: We Didn’t Even See Comey’s Let...</td>\n",
              "      <td>Darrell Lucus</td>\n",
              "      <td>House Dem Aide: We Didn’t Even See Comey’s Let...</td>\n",
              "    </tr>\n",
              "    <tr>\n",
              "      <th>1</th>\n",
              "      <td>1.0</td>\n",
              "      <td>FLYNN: Hillary Clinton, Big Woman on Campus - ...</td>\n",
              "      <td>Daniel J. Flynn</td>\n",
              "      <td>Ever get the feeling your life circles the rou...</td>\n",
              "    </tr>\n",
              "    <tr>\n",
              "      <th>2</th>\n",
              "      <td>2.0</td>\n",
              "      <td>Why the Truth Might Get You Fired</td>\n",
              "      <td>Consortiumnews.com</td>\n",
              "      <td>Why the Truth Might Get You Fired October 29, ...</td>\n",
              "    </tr>\n",
              "    <tr>\n",
              "      <th>3</th>\n",
              "      <td>3.0</td>\n",
              "      <td>15 Civilians Killed In Single US Airstrike Hav...</td>\n",
              "      <td>Jessica Purkiss</td>\n",
              "      <td>Videos 15 Civilians Killed In Single US Airstr...</td>\n",
              "    </tr>\n",
              "    <tr>\n",
              "      <th>4</th>\n",
              "      <td>4.0</td>\n",
              "      <td>Iranian woman jailed for fictional unpublished...</td>\n",
              "      <td>Howard Portnoy</td>\n",
              "      <td>Print \\nAn Iranian woman has been sentenced to...</td>\n",
              "    </tr>\n",
              "  </tbody>\n",
              "</table>\n",
              "</div>"
            ],
            "text/plain": [
              "    id  ...                                               text\n",
              "0  0.0  ...  House Dem Aide: We Didn’t Even See Comey’s Let...\n",
              "1  1.0  ...  Ever get the feeling your life circles the rou...\n",
              "2  2.0  ...  Why the Truth Might Get You Fired October 29, ...\n",
              "3  3.0  ...  Videos 15 Civilians Killed In Single US Airstr...\n",
              "4  4.0  ...  Print \\nAn Iranian woman has been sentenced to...\n",
              "\n",
              "[5 rows x 4 columns]"
            ]
          },
          "metadata": {},
          "execution_count": 7
        }
      ]
    },
    {
      "cell_type": "code",
      "metadata": {
        "id": "ixWNZ_xowyI_"
      },
      "source": [
        "## Get the Dependent features\n",
        "y=df['label']"
      ],
      "execution_count": 8,
      "outputs": []
    },
    {
      "cell_type": "code",
      "metadata": {
        "colab": {
          "base_uri": "https://localhost:8080/"
        },
        "id": "EPnjMyONw09S",
        "outputId": "78e8804c-1115-44e8-a2de-13cbb74bf8f1"
      },
      "source": [
        "y.head()"
      ],
      "execution_count": 9,
      "outputs": [
        {
          "output_type": "execute_result",
          "data": {
            "text/plain": [
              "0    1.0\n",
              "1    0.0\n",
              "2    1.0\n",
              "3    1.0\n",
              "4    1.0\n",
              "Name: label, dtype: float64"
            ]
          },
          "metadata": {},
          "execution_count": 9
        }
      ]
    },
    {
      "cell_type": "code",
      "metadata": {
        "colab": {
          "base_uri": "https://localhost:8080/"
        },
        "id": "4LfeYlzhw4Ty",
        "outputId": "faf43cc1-ffdf-4ffa-bb02-5cc02899f69c"
      },
      "source": [
        "df.shape"
      ],
      "execution_count": 10,
      "outputs": [
        {
          "output_type": "execute_result",
          "data": {
            "text/plain": [
              "(20877, 5)"
            ]
          },
          "metadata": {},
          "execution_count": 10
        }
      ]
    },
    {
      "cell_type": "code",
      "metadata": {
        "id": "9Fi8bFRWw80b"
      },
      "source": [
        "from sklearn.feature_extraction.text import CountVectorizer, TfidfVectorizer, HashingVectorizer"
      ],
      "execution_count": 11,
      "outputs": []
    },
    {
      "cell_type": "code",
      "metadata": {
        "id": "IYA-w32axG6D"
      },
      "source": [
        "df=df.dropna()"
      ],
      "execution_count": 12,
      "outputs": []
    },
    {
      "cell_type": "code",
      "metadata": {
        "colab": {
          "base_uri": "https://localhost:8080/",
          "height": 502
        },
        "id": "hR6D-QITxKiJ",
        "outputId": "49399ae5-7112-4ba0-bb34-56ba59780742"
      },
      "source": [
        "df.head(10)"
      ],
      "execution_count": 13,
      "outputs": [
        {
          "output_type": "execute_result",
          "data": {
            "text/html": [
              "<div>\n",
              "<style scoped>\n",
              "    .dataframe tbody tr th:only-of-type {\n",
              "        vertical-align: middle;\n",
              "    }\n",
              "\n",
              "    .dataframe tbody tr th {\n",
              "        vertical-align: top;\n",
              "    }\n",
              "\n",
              "    .dataframe thead th {\n",
              "        text-align: right;\n",
              "    }\n",
              "</style>\n",
              "<table border=\"1\" class=\"dataframe\">\n",
              "  <thead>\n",
              "    <tr style=\"text-align: right;\">\n",
              "      <th></th>\n",
              "      <th>id</th>\n",
              "      <th>title</th>\n",
              "      <th>author</th>\n",
              "      <th>text</th>\n",
              "      <th>label</th>\n",
              "    </tr>\n",
              "  </thead>\n",
              "  <tbody>\n",
              "    <tr>\n",
              "      <th>0</th>\n",
              "      <td>0.0</td>\n",
              "      <td>House Dem Aide: We Didn’t Even See Comey’s Let...</td>\n",
              "      <td>Darrell Lucus</td>\n",
              "      <td>House Dem Aide: We Didn’t Even See Comey’s Let...</td>\n",
              "      <td>1.0</td>\n",
              "    </tr>\n",
              "    <tr>\n",
              "      <th>1</th>\n",
              "      <td>1.0</td>\n",
              "      <td>FLYNN: Hillary Clinton, Big Woman on Campus - ...</td>\n",
              "      <td>Daniel J. Flynn</td>\n",
              "      <td>Ever get the feeling your life circles the rou...</td>\n",
              "      <td>0.0</td>\n",
              "    </tr>\n",
              "    <tr>\n",
              "      <th>2</th>\n",
              "      <td>2.0</td>\n",
              "      <td>Why the Truth Might Get You Fired</td>\n",
              "      <td>Consortiumnews.com</td>\n",
              "      <td>Why the Truth Might Get You Fired October 29, ...</td>\n",
              "      <td>1.0</td>\n",
              "    </tr>\n",
              "    <tr>\n",
              "      <th>3</th>\n",
              "      <td>3.0</td>\n",
              "      <td>15 Civilians Killed In Single US Airstrike Hav...</td>\n",
              "      <td>Jessica Purkiss</td>\n",
              "      <td>Videos 15 Civilians Killed In Single US Airstr...</td>\n",
              "      <td>1.0</td>\n",
              "    </tr>\n",
              "    <tr>\n",
              "      <th>4</th>\n",
              "      <td>4.0</td>\n",
              "      <td>Iranian woman jailed for fictional unpublished...</td>\n",
              "      <td>Howard Portnoy</td>\n",
              "      <td>Print \\nAn Iranian woman has been sentenced to...</td>\n",
              "      <td>1.0</td>\n",
              "    </tr>\n",
              "    <tr>\n",
              "      <th>5</th>\n",
              "      <td>5.0</td>\n",
              "      <td>Jackie Mason: Hollywood Would Love Trump if He...</td>\n",
              "      <td>Daniel Nussbaum</td>\n",
              "      <td>In these trying times, Jackie Mason is the Voi...</td>\n",
              "      <td>0.0</td>\n",
              "    </tr>\n",
              "    <tr>\n",
              "      <th>7</th>\n",
              "      <td>7.0</td>\n",
              "      <td>Benoît Hamon Wins French Socialist Party’s Pre...</td>\n",
              "      <td>Alissa J. Rubin</td>\n",
              "      <td>PARIS  —   France chose an idealistic, traditi...</td>\n",
              "      <td>0.0</td>\n",
              "    </tr>\n",
              "    <tr>\n",
              "      <th>9</th>\n",
              "      <td>9.0</td>\n",
              "      <td>A Back-Channel Plan for Ukraine and Russia, Co...</td>\n",
              "      <td>Megan Twohey and Scott Shane</td>\n",
              "      <td>A week before Michael T. Flynn resigned as nat...</td>\n",
              "      <td>0.0</td>\n",
              "    </tr>\n",
              "    <tr>\n",
              "      <th>10</th>\n",
              "      <td>10.0</td>\n",
              "      <td>Obama’s Organizing for Action Partners with So...</td>\n",
              "      <td>Aaron Klein</td>\n",
              "      <td>Organizing for Action, the activist group that...</td>\n",
              "      <td>0.0</td>\n",
              "    </tr>\n",
              "    <tr>\n",
              "      <th>11</th>\n",
              "      <td>11.0</td>\n",
              "      <td>BBC Comedy Sketch \"Real Housewives of ISIS\" Ca...</td>\n",
              "      <td>Chris Tomlinson</td>\n",
              "      <td>The BBC produced spoof on the “Real Housewives...</td>\n",
              "      <td>0.0</td>\n",
              "    </tr>\n",
              "  </tbody>\n",
              "</table>\n",
              "</div>"
            ],
            "text/plain": [
              "      id  ... label\n",
              "0    0.0  ...   1.0\n",
              "1    1.0  ...   0.0\n",
              "2    2.0  ...   1.0\n",
              "3    3.0  ...   1.0\n",
              "4    4.0  ...   1.0\n",
              "5    5.0  ...   0.0\n",
              "7    7.0  ...   0.0\n",
              "9    9.0  ...   0.0\n",
              "10  10.0  ...   0.0\n",
              "11  11.0  ...   0.0\n",
              "\n",
              "[10 rows x 5 columns]"
            ]
          },
          "metadata": {},
          "execution_count": 13
        }
      ]
    },
    {
      "cell_type": "code",
      "metadata": {
        "id": "RBQutpTc0nYs"
      },
      "source": [
        "messages=df.copy()"
      ],
      "execution_count": 14,
      "outputs": []
    },
    {
      "cell_type": "code",
      "metadata": {
        "id": "FVj1X_FB0sqI"
      },
      "source": [
        "messages.reset_index(inplace=True)"
      ],
      "execution_count": 15,
      "outputs": []
    },
    {
      "cell_type": "code",
      "metadata": {
        "colab": {
          "base_uri": "https://localhost:8080/",
          "height": 519
        },
        "id": "l_IQgAlr0uz5",
        "outputId": "f2f27054-8246-4cb1-a43b-c53a71705d7c"
      },
      "source": [
        "messages.head(10)"
      ],
      "execution_count": 16,
      "outputs": [
        {
          "output_type": "execute_result",
          "data": {
            "text/html": [
              "<div>\n",
              "<style scoped>\n",
              "    .dataframe tbody tr th:only-of-type {\n",
              "        vertical-align: middle;\n",
              "    }\n",
              "\n",
              "    .dataframe tbody tr th {\n",
              "        vertical-align: top;\n",
              "    }\n",
              "\n",
              "    .dataframe thead th {\n",
              "        text-align: right;\n",
              "    }\n",
              "</style>\n",
              "<table border=\"1\" class=\"dataframe\">\n",
              "  <thead>\n",
              "    <tr style=\"text-align: right;\">\n",
              "      <th></th>\n",
              "      <th>index</th>\n",
              "      <th>id</th>\n",
              "      <th>title</th>\n",
              "      <th>author</th>\n",
              "      <th>text</th>\n",
              "      <th>label</th>\n",
              "    </tr>\n",
              "  </thead>\n",
              "  <tbody>\n",
              "    <tr>\n",
              "      <th>0</th>\n",
              "      <td>0</td>\n",
              "      <td>0.0</td>\n",
              "      <td>House Dem Aide: We Didn’t Even See Comey’s Let...</td>\n",
              "      <td>Darrell Lucus</td>\n",
              "      <td>House Dem Aide: We Didn’t Even See Comey’s Let...</td>\n",
              "      <td>1.0</td>\n",
              "    </tr>\n",
              "    <tr>\n",
              "      <th>1</th>\n",
              "      <td>1</td>\n",
              "      <td>1.0</td>\n",
              "      <td>FLYNN: Hillary Clinton, Big Woman on Campus - ...</td>\n",
              "      <td>Daniel J. Flynn</td>\n",
              "      <td>Ever get the feeling your life circles the rou...</td>\n",
              "      <td>0.0</td>\n",
              "    </tr>\n",
              "    <tr>\n",
              "      <th>2</th>\n",
              "      <td>2</td>\n",
              "      <td>2.0</td>\n",
              "      <td>Why the Truth Might Get You Fired</td>\n",
              "      <td>Consortiumnews.com</td>\n",
              "      <td>Why the Truth Might Get You Fired October 29, ...</td>\n",
              "      <td>1.0</td>\n",
              "    </tr>\n",
              "    <tr>\n",
              "      <th>3</th>\n",
              "      <td>3</td>\n",
              "      <td>3.0</td>\n",
              "      <td>15 Civilians Killed In Single US Airstrike Hav...</td>\n",
              "      <td>Jessica Purkiss</td>\n",
              "      <td>Videos 15 Civilians Killed In Single US Airstr...</td>\n",
              "      <td>1.0</td>\n",
              "    </tr>\n",
              "    <tr>\n",
              "      <th>4</th>\n",
              "      <td>4</td>\n",
              "      <td>4.0</td>\n",
              "      <td>Iranian woman jailed for fictional unpublished...</td>\n",
              "      <td>Howard Portnoy</td>\n",
              "      <td>Print \\nAn Iranian woman has been sentenced to...</td>\n",
              "      <td>1.0</td>\n",
              "    </tr>\n",
              "    <tr>\n",
              "      <th>5</th>\n",
              "      <td>5</td>\n",
              "      <td>5.0</td>\n",
              "      <td>Jackie Mason: Hollywood Would Love Trump if He...</td>\n",
              "      <td>Daniel Nussbaum</td>\n",
              "      <td>In these trying times, Jackie Mason is the Voi...</td>\n",
              "      <td>0.0</td>\n",
              "    </tr>\n",
              "    <tr>\n",
              "      <th>6</th>\n",
              "      <td>7</td>\n",
              "      <td>7.0</td>\n",
              "      <td>Benoît Hamon Wins French Socialist Party’s Pre...</td>\n",
              "      <td>Alissa J. Rubin</td>\n",
              "      <td>PARIS  —   France chose an idealistic, traditi...</td>\n",
              "      <td>0.0</td>\n",
              "    </tr>\n",
              "    <tr>\n",
              "      <th>7</th>\n",
              "      <td>9</td>\n",
              "      <td>9.0</td>\n",
              "      <td>A Back-Channel Plan for Ukraine and Russia, Co...</td>\n",
              "      <td>Megan Twohey and Scott Shane</td>\n",
              "      <td>A week before Michael T. Flynn resigned as nat...</td>\n",
              "      <td>0.0</td>\n",
              "    </tr>\n",
              "    <tr>\n",
              "      <th>8</th>\n",
              "      <td>10</td>\n",
              "      <td>10.0</td>\n",
              "      <td>Obama’s Organizing for Action Partners with So...</td>\n",
              "      <td>Aaron Klein</td>\n",
              "      <td>Organizing for Action, the activist group that...</td>\n",
              "      <td>0.0</td>\n",
              "    </tr>\n",
              "    <tr>\n",
              "      <th>9</th>\n",
              "      <td>11</td>\n",
              "      <td>11.0</td>\n",
              "      <td>BBC Comedy Sketch \"Real Housewives of ISIS\" Ca...</td>\n",
              "      <td>Chris Tomlinson</td>\n",
              "      <td>The BBC produced spoof on the “Real Housewives...</td>\n",
              "      <td>0.0</td>\n",
              "    </tr>\n",
              "  </tbody>\n",
              "</table>\n",
              "</div>"
            ],
            "text/plain": [
              "   index    id  ...                                               text label\n",
              "0      0   0.0  ...  House Dem Aide: We Didn’t Even See Comey’s Let...   1.0\n",
              "1      1   1.0  ...  Ever get the feeling your life circles the rou...   0.0\n",
              "2      2   2.0  ...  Why the Truth Might Get You Fired October 29, ...   1.0\n",
              "3      3   3.0  ...  Videos 15 Civilians Killed In Single US Airstr...   1.0\n",
              "4      4   4.0  ...  Print \\nAn Iranian woman has been sentenced to...   1.0\n",
              "5      5   5.0  ...  In these trying times, Jackie Mason is the Voi...   0.0\n",
              "6      7   7.0  ...  PARIS  —   France chose an idealistic, traditi...   0.0\n",
              "7      9   9.0  ...  A week before Michael T. Flynn resigned as nat...   0.0\n",
              "8     10  10.0  ...  Organizing for Action, the activist group that...   0.0\n",
              "9     11  11.0  ...  The BBC produced spoof on the “Real Housewives...   0.0\n",
              "\n",
              "[10 rows x 6 columns]"
            ]
          },
          "metadata": {},
          "execution_count": 16
        }
      ]
    },
    {
      "cell_type": "code",
      "metadata": {
        "colab": {
          "base_uri": "https://localhost:8080/",
          "height": 161
        },
        "id": "OV0DoVz3043p",
        "outputId": "0b3bd5a4-f47a-46f1-f7e0-379e80e48bec"
      },
      "source": [
        "messages['text'][6]"
      ],
      "execution_count": 17,
      "outputs": [
        {
          "output_type": "execute_result",
          "data": {
            "application/vnd.google.colaboratory.intrinsic+json": {
              "type": "string"
            },
            "text/plain": [
              "'PARIS  —   France chose an idealistic, traditional   candidate in Sunday’s primary to represent the Socialist and   parties in the presidential election this spring. The candidate, Benoît Hamon, 49, who ran on the slogan that he would “make France’s heart beat,” bested Manuel Valls, the former prime minister, whose campaign has promoted more   policies and who has a strong    background. Mr. Hamon appeared to have won by a wide margin, with incomplete returns showing him with an estimated 58 percent of the vote to Mr. Valls’s 41 percent. “Tonight the left holds its head up high again it is looking to the future,” Mr. Hamon said, addressing his supporters. “Our country needs the left, but a modern, innovative left,” he said. Mr. Hamon’s victory was the clearest sign yet that voters on the left want a break with the policies of President François Hollande, who in December announced that he would not seek  . However, Mr. Hamon’s strong showing is unlikely to change widespread assessments that   candidates have little chance of making it into the second round of voting in the general election. The first round of the general election is set for April 23 and the runoff for May 7. The Socialist Party is deeply divided, and one measure of its lack of popular enthusiasm was the relatively low number of people voting. About two million people voted in the second round of the primary on Sunday, in contrast with about 2. 9 million in the second round of the last presidential primary on the left, in 2011. However, much of the conventional wisdom over how the elections will go has been thrown into question over the past week, because the leading candidate, François Fillon, who represents the main   party, the Republicans, was accused of paying his wife large sums of money to work as his parliamentary aide. While nepotism is legal in the French political system, it is not clear that she actually did any work. Prosecutors who specialize in financial malfeasance are reviewing the case. France’s electoral system allows multiple candidates to run for president in the first round of voting, but only the top two   go on to a second round. Mr. Hamon is entering a race that is already crowded on the left, with candidates who include   Mélenchon on the far left, and Emmanuel Macron, an independent who served as economy minister in Mr. Hollande’s government and who embraces more   policies. Unless he decides to withdraw, Mr. Fillon, the mainstream right candidate, will also run, as will the extreme right candidate Marine Le Pen. The two have been expected to go to the runoff. Mr. Hamon’s victory can be attributed at least in part to his image as an idealist and traditional leftist candidate who appeals to union voters as well as more environmentally concerned and socially liberal young people. Unlike Mr. Valls, he also clearly distanced himself from some of Mr. Hollande’s more unpopular policies, especially the economic ones. Thomas Kekenbosch, 22, a student and one of the leaders of the group the Youth With Benoît Hamon, said Mr. Hamon embodied a new hope for those on the left. “We have a perspective we have something to do, to build,” Mr. Kekenbosch said. Mr. Hollande had disappointed many young people because under him the party abandoned ideals, such as support for workers, that many   voters believe in, according to Mr. Kekenbosch. Mr. Hollande’s government, under pressure from the European Union to meet budget restraints, struggled to pass labor code reforms to make the market more attractive to foreign investors and also to encourage French businesses to expand in France. The measures ultimately passed after weeks of strikes, but they were watered down and generated little concrete progress in improving France’s roughly 10 percent unemployment rate and its nearly 25 percent youth joblessness rate. Mr. Hamon strongly endorses a stimulus approach to improving the economy and has promised to phase in a universal income, which would especially help young people looking for work, but would also supplement the livelihood of   French workers. The end goal would be to have everyone receive 750 euros per month (about $840). “We have someone that trusts us,” Mr. Kekenbosch said, “who says: ‘I give you enough to pay for your studies. You can have a scholarship which spares you from working at McDonald’s on provisional contracts for 4 years. ” Mr. Hamon advocates phasing out diesel fuel and encouraging drivers to replace vehicles that use petroleum products with electrical ones. His leftist pedigree began early. His father worked at an arsenal in Brest, a city in the far west of Brittany, and his mother worked off and on as a secretary. He was an early member of the Movement of Young Socialists, and he has continued to work closely with them through his political life. He also worked for Martine Aubry, now the mayor of Lille and a former Socialist Party leader.'"
            ]
          },
          "metadata": {},
          "execution_count": 17
        }
      ]
    },
    {
      "cell_type": "code",
      "metadata": {
        "id": "cKffU6uf2A7F"
      },
      "source": [
        "messages['text']=messages['text'].apply(str)"
      ],
      "execution_count": 18,
      "outputs": []
    },
    {
      "cell_type": "code",
      "metadata": {
        "id": "uihXrbBz0_-j",
        "colab": {
          "base_uri": "https://localhost:8080/"
        },
        "outputId": "e696dd4d-2e3b-4bc3-f585-62044d200e50"
      },
      "source": [
        "import nltk\n",
        "from nltk.corpus import stopwords\n",
        "from nltk.stem.porter import PorterStemmer\n",
        "import re\n",
        "nltk.download('stopwords')\n",
        "STOPWORDS = set(stopwords.words('english'))\n",
        "ps = PorterStemmer()\n",
        "corpus = []\n",
        "for i in range(0, len(messages)):\n",
        "    review = re.sub('[^a-zA-Z]', ' ', messages['text'][i])\n",
        "    review = review.lower()\n",
        "    review = review.split()\n",
        "    \n",
        "    review = [ps.stem(word) for word in review if not word in STOPWORDS]\n",
        "    review = ' '.join(review)\n",
        "    corpus.append(review)"
      ],
      "execution_count": 19,
      "outputs": [
        {
          "output_type": "stream",
          "name": "stdout",
          "text": [
            "[nltk_data] Downloading package stopwords to /root/nltk_data...\n",
            "[nltk_data]   Unzipping corpora/stopwords.zip.\n"
          ]
        }
      ]
    },
    {
      "cell_type": "code",
      "metadata": {
        "colab": {
          "base_uri": "https://localhost:8080/",
          "height": 161
        },
        "id": "98toeT5d4aE3",
        "outputId": "e29b7e02-24ee-4e4a-ebfe-bb6bbf145801"
      },
      "source": [
        "corpus[13]"
      ],
      "execution_count": 20,
      "outputs": [
        {
          "output_type": "execute_result",
          "data": {
            "application/vnd.google.colaboratory.intrinsic+json": {
              "type": "string"
            },
            "text/plain": [
              "'guillermo barro schelotto first argentin player set foot major leagu soccer field statist speak th made debut columbu crew schelotto phone still ring day six year left leagu call fellow argentin look advic though schelotto current coach boca junior decor team argentina player call want talk team countri soccer world away environ bueno air like talk citi schelotto said mani find way come argentin make demograph l trail american accord elia sport bureau go season open argentin player featur l game sinc leagu incept sebastian blanco new design player portland made debut open friday becam rank nation argentin goal total twelv team l start season least one argentin roster list includ star like dalla mauro diaz montreal ignacio piatti newcom like atlanta hector villalba new york citi f c maxi moralez come money least promis paid regularli other come lifestyl chanc fade compar anonym unavail home live quiet clean life schelotto describ reminisc day ohio portland timber playmak diego valeri one player call schelotto former manag eventu heed advic said entir differ reason year sign portland contract hometown club lanu valeri gun press throat robber attempt steal bmw wife florencia daughter conni insid moment valeri said consider understat thought opportun play outsid know differ place world within year valeri loan spell portug spain way portland situat like hard argentinian peopl chang said valeri famili settl northwest play arguabl best soccer career name valuabl player portland l cup championship game think like anonym tranquil caleb porter valeri coach timber said star countrymen realli relish opportun live lifestyl differ live argentina transit well l sinc portland sign six argentin includ acquisit blanco valeri good ambassador speak english urg newcom tri learn soon possibl eas transit porter timber gener manag presid soccer gavin wilkinson believ anoth straightforward reason argentina outsiz presenc l simpli produc kind technic player leagu desir certain countri produc certain posit porter said team look creativ piec know get one argentina larg alumni directori strong tie agent consult region made kind shop easier l team past struggl argentin economi also favor north american club said also chang kind individu look make move north dovetail leagu overal transfer polici qualiti l improv enter third decad team look less market import past trend toward age often european star toward onfield impact valu latest class argentin reflect shift enter leagu averag age design player team star fallen lowest point decad know l differ year ago said schelotto move leagu go make good money play pressur know make career unit state mayb move europ ten year ago imposs right current argentin play leagu atlanta unit argentin coach tata martino brought three ahead first season younger villalba buy young seen benefit club risk player continu develop retain valu move brighter prospect europ peopl come younger younger mayb start career ignacio piatti playmak montreal impact said interpret look age abl live comfort life field focu game piatti like schelotto happi offer advic next wave argentin talent consid enter l includ player side hudson river gonzalo veron red bull moralez recent sign new york citi f c acknowledg turn piatti advic sign commun event east harlem last week moralez spent four year itali reflect decis move unit state never new york citi sign said turn like piatti david villa advic leagu standard play said also sought assur famili set join new york shortli first want enjoy footbal moralez said also get know beauti citi countri everybodi get opportun come'"
            ]
          },
          "metadata": {},
          "execution_count": 20
        }
      ]
    },
    {
      "cell_type": "code",
      "metadata": {
        "id": "Bd6S7qDr5Wzb"
      },
      "source": [
        "## TFidf Vectorizer\n",
        "from sklearn.feature_extraction.text import TfidfVectorizer\n",
        "tfidf_v=TfidfVectorizer(max_features=5000,ngram_range=(1,3))\n",
        "X=tfidf_v.fit_transform(corpus).toarray()"
      ],
      "execution_count": 21,
      "outputs": []
    },
    {
      "cell_type": "code",
      "metadata": {
        "colab": {
          "base_uri": "https://localhost:8080/"
        },
        "id": "F0kN_AXv5yxf",
        "outputId": "48bc3787-7f04-4d1e-d307-b2a470542e31"
      },
      "source": [
        "X.shape"
      ],
      "execution_count": 22,
      "outputs": [
        {
          "output_type": "execute_result",
          "data": {
            "text/plain": [
              "(18209, 5000)"
            ]
          },
          "metadata": {},
          "execution_count": 22
        }
      ]
    },
    {
      "cell_type": "code",
      "metadata": {
        "id": "4Q5Xbpvd52H0"
      },
      "source": [
        "y=messages['label']"
      ],
      "execution_count": 23,
      "outputs": []
    },
    {
      "cell_type": "code",
      "metadata": {
        "id": "RBLyeJuZ54R6"
      },
      "source": [
        "## Divide the dataset into Train and Test\n",
        "from sklearn.model_selection import train_test_split\n",
        "X_train, X_test, y_train, y_test = train_test_split(X, y, test_size=0.33, random_state=0)"
      ],
      "execution_count": 24,
      "outputs": []
    },
    {
      "cell_type": "code",
      "metadata": {
        "colab": {
          "base_uri": "https://localhost:8080/"
        },
        "id": "LYFobnnn5-0m",
        "outputId": "94800b12-90f4-44a4-9f97-481ba0dbc51f"
      },
      "source": [
        "tfidf_v.get_feature_names()[:20]"
      ],
      "execution_count": 25,
      "outputs": [
        {
          "output_type": "stream",
          "name": "stderr",
          "text": [
            "/usr/local/lib/python3.7/dist-packages/sklearn/utils/deprecation.py:87: FutureWarning: Function get_feature_names is deprecated; get_feature_names is deprecated in 1.0 and will be removed in 1.2. Please use get_feature_names_out instead.\n",
            "  warnings.warn(msg, category=FutureWarning)\n"
          ]
        },
        {
          "output_type": "execute_result",
          "data": {
            "text/plain": [
              "['aaron',\n",
              " 'abandon',\n",
              " 'abc',\n",
              " 'abc news',\n",
              " 'abe',\n",
              " 'abedin',\n",
              " 'abil',\n",
              " 'abl',\n",
              " 'abort',\n",
              " 'abroad',\n",
              " 'absenc',\n",
              " 'absolut',\n",
              " 'absorb',\n",
              " 'absurd',\n",
              " 'abu',\n",
              " 'abus',\n",
              " 'academ',\n",
              " 'academi',\n",
              " 'acceler',\n",
              " 'accept']"
            ]
          },
          "metadata": {},
          "execution_count": 25
        }
      ]
    },
    {
      "cell_type": "code",
      "metadata": {
        "colab": {
          "base_uri": "https://localhost:8080/"
        },
        "id": "4tMG8Yp76Hf0",
        "outputId": "5fbc492d-60e4-4d62-a4ad-16f4cc8af72a"
      },
      "source": [
        "tfidf_v.get_params()"
      ],
      "execution_count": 26,
      "outputs": [
        {
          "output_type": "execute_result",
          "data": {
            "text/plain": [
              "{'analyzer': 'word',\n",
              " 'binary': False,\n",
              " 'decode_error': 'strict',\n",
              " 'dtype': numpy.float64,\n",
              " 'encoding': 'utf-8',\n",
              " 'input': 'content',\n",
              " 'lowercase': True,\n",
              " 'max_df': 1.0,\n",
              " 'max_features': 5000,\n",
              " 'min_df': 1,\n",
              " 'ngram_range': (1, 3),\n",
              " 'norm': 'l2',\n",
              " 'preprocessor': None,\n",
              " 'smooth_idf': True,\n",
              " 'stop_words': None,\n",
              " 'strip_accents': None,\n",
              " 'sublinear_tf': False,\n",
              " 'token_pattern': '(?u)\\\\b\\\\w\\\\w+\\\\b',\n",
              " 'tokenizer': None,\n",
              " 'use_idf': True,\n",
              " 'vocabulary': None}"
            ]
          },
          "metadata": {},
          "execution_count": 26
        }
      ]
    },
    {
      "cell_type": "code",
      "metadata": {
        "id": "6y0tjugV6PJZ"
      },
      "source": [
        "count_df = pd.DataFrame(X_train, columns=tfidf_v.get_feature_names_out())"
      ],
      "execution_count": 27,
      "outputs": []
    },
    {
      "cell_type": "code",
      "metadata": {
        "colab": {
          "base_uri": "https://localhost:8080/",
          "height": 273
        },
        "id": "SgKbTgZY6WJ0",
        "outputId": "edbe62a9-ecbf-4377-a46a-39c9b98d3ad4"
      },
      "source": [
        "count_df.head()"
      ],
      "execution_count": 28,
      "outputs": [
        {
          "output_type": "execute_result",
          "data": {
            "text/html": [
              "<div>\n",
              "<style scoped>\n",
              "    .dataframe tbody tr th:only-of-type {\n",
              "        vertical-align: middle;\n",
              "    }\n",
              "\n",
              "    .dataframe tbody tr th {\n",
              "        vertical-align: top;\n",
              "    }\n",
              "\n",
              "    .dataframe thead th {\n",
              "        text-align: right;\n",
              "    }\n",
              "</style>\n",
              "<table border=\"1\" class=\"dataframe\">\n",
              "  <thead>\n",
              "    <tr style=\"text-align: right;\">\n",
              "      <th></th>\n",
              "      <th>aaron</th>\n",
              "      <th>abandon</th>\n",
              "      <th>abc</th>\n",
              "      <th>abc news</th>\n",
              "      <th>abe</th>\n",
              "      <th>abedin</th>\n",
              "      <th>abil</th>\n",
              "      <th>abl</th>\n",
              "      <th>abort</th>\n",
              "      <th>abroad</th>\n",
              "      <th>absenc</th>\n",
              "      <th>absolut</th>\n",
              "      <th>absorb</th>\n",
              "      <th>absurd</th>\n",
              "      <th>abu</th>\n",
              "      <th>abus</th>\n",
              "      <th>academ</th>\n",
              "      <th>academi</th>\n",
              "      <th>acceler</th>\n",
              "      <th>accept</th>\n",
              "      <th>access</th>\n",
              "      <th>access pipelin</th>\n",
              "      <th>accid</th>\n",
              "      <th>accommod</th>\n",
              "      <th>accompani</th>\n",
              "      <th>accomplish</th>\n",
              "      <th>accord</th>\n",
              "      <th>accord report</th>\n",
              "      <th>account</th>\n",
              "      <th>accumul</th>\n",
              "      <th>accur</th>\n",
              "      <th>accus</th>\n",
              "      <th>achiev</th>\n",
              "      <th>acid</th>\n",
              "      <th>acknowledg</th>\n",
              "      <th>acquir</th>\n",
              "      <th>acr</th>\n",
              "      <th>across</th>\n",
              "      <th>across countri</th>\n",
              "      <th>act</th>\n",
              "      <th>...</th>\n",
              "      <th>written</th>\n",
              "      <th>wrong</th>\n",
              "      <th>wrongdo</th>\n",
              "      <th>wrote</th>\n",
              "      <th>wrote twitter</th>\n",
              "      <th>www</th>\n",
              "      <th>xi</th>\n",
              "      <th>yahoo</th>\n",
              "      <th>yard</th>\n",
              "      <th>ye</th>\n",
              "      <th>yeah</th>\n",
              "      <th>year</th>\n",
              "      <th>year ago</th>\n",
              "      <th>year later</th>\n",
              "      <th>year mr</th>\n",
              "      <th>year old</th>\n",
              "      <th>year said</th>\n",
              "      <th>year sinc</th>\n",
              "      <th>yell</th>\n",
              "      <th>yellow</th>\n",
              "      <th>yemen</th>\n",
              "      <th>yesterday</th>\n",
              "      <th>yet</th>\n",
              "      <th>yet anoth</th>\n",
              "      <th>yiannopoulo</th>\n",
              "      <th>yield</th>\n",
              "      <th>york</th>\n",
              "      <th>york citi</th>\n",
              "      <th>york time</th>\n",
              "      <th>yorker</th>\n",
              "      <th>young</th>\n",
              "      <th>young peopl</th>\n",
              "      <th>younger</th>\n",
              "      <th>youth</th>\n",
              "      <th>youtub</th>\n",
              "      <th>zero</th>\n",
              "      <th>zika</th>\n",
              "      <th>zionist</th>\n",
              "      <th>zone</th>\n",
              "      <th>zu</th>\n",
              "    </tr>\n",
              "  </thead>\n",
              "  <tbody>\n",
              "    <tr>\n",
              "      <th>0</th>\n",
              "      <td>0.000000</td>\n",
              "      <td>0.00000</td>\n",
              "      <td>0.0</td>\n",
              "      <td>0.0</td>\n",
              "      <td>0.0</td>\n",
              "      <td>0.0</td>\n",
              "      <td>0.0</td>\n",
              "      <td>0.01086</td>\n",
              "      <td>0.0</td>\n",
              "      <td>0.016647</td>\n",
              "      <td>0.0</td>\n",
              "      <td>0.0</td>\n",
              "      <td>0.0</td>\n",
              "      <td>0.019217</td>\n",
              "      <td>0.000000</td>\n",
              "      <td>0.0</td>\n",
              "      <td>0.000000</td>\n",
              "      <td>0.0</td>\n",
              "      <td>0.0</td>\n",
              "      <td>0.011960</td>\n",
              "      <td>0.000000</td>\n",
              "      <td>0.0</td>\n",
              "      <td>0.017983</td>\n",
              "      <td>0.0</td>\n",
              "      <td>0.017023</td>\n",
              "      <td>0.0</td>\n",
              "      <td>0.000000</td>\n",
              "      <td>0.0</td>\n",
              "      <td>0.000000</td>\n",
              "      <td>0.0</td>\n",
              "      <td>0.033603</td>\n",
              "      <td>0.0</td>\n",
              "      <td>0.013934</td>\n",
              "      <td>0.0</td>\n",
              "      <td>0.013282</td>\n",
              "      <td>0.0</td>\n",
              "      <td>0.0</td>\n",
              "      <td>0.000000</td>\n",
              "      <td>0.0</td>\n",
              "      <td>0.019413</td>\n",
              "      <td>...</td>\n",
              "      <td>0.0</td>\n",
              "      <td>0.012594</td>\n",
              "      <td>0.0</td>\n",
              "      <td>0.000000</td>\n",
              "      <td>0.0</td>\n",
              "      <td>0.0</td>\n",
              "      <td>0.0</td>\n",
              "      <td>0.0</td>\n",
              "      <td>0.0</td>\n",
              "      <td>0.013501</td>\n",
              "      <td>0.0</td>\n",
              "      <td>0.017456</td>\n",
              "      <td>0.0</td>\n",
              "      <td>0.00000</td>\n",
              "      <td>0.0</td>\n",
              "      <td>0.0</td>\n",
              "      <td>0.0</td>\n",
              "      <td>0.0</td>\n",
              "      <td>0.0</td>\n",
              "      <td>0.0</td>\n",
              "      <td>0.0</td>\n",
              "      <td>0.0</td>\n",
              "      <td>0.000000</td>\n",
              "      <td>0.000000</td>\n",
              "      <td>0.0</td>\n",
              "      <td>0.0</td>\n",
              "      <td>0.000000</td>\n",
              "      <td>0.000000</td>\n",
              "      <td>0.000000</td>\n",
              "      <td>0.0</td>\n",
              "      <td>0.000000</td>\n",
              "      <td>0.0</td>\n",
              "      <td>0.0</td>\n",
              "      <td>0.000000</td>\n",
              "      <td>0.0</td>\n",
              "      <td>0.016183</td>\n",
              "      <td>0.0</td>\n",
              "      <td>0.0</td>\n",
              "      <td>0.0</td>\n",
              "      <td>0.0</td>\n",
              "    </tr>\n",
              "    <tr>\n",
              "      <th>1</th>\n",
              "      <td>0.000000</td>\n",
              "      <td>0.00000</td>\n",
              "      <td>0.0</td>\n",
              "      <td>0.0</td>\n",
              "      <td>0.0</td>\n",
              "      <td>0.0</td>\n",
              "      <td>0.0</td>\n",
              "      <td>0.00000</td>\n",
              "      <td>0.0</td>\n",
              "      <td>0.000000</td>\n",
              "      <td>0.0</td>\n",
              "      <td>0.0</td>\n",
              "      <td>0.0</td>\n",
              "      <td>0.000000</td>\n",
              "      <td>0.000000</td>\n",
              "      <td>0.0</td>\n",
              "      <td>0.000000</td>\n",
              "      <td>0.0</td>\n",
              "      <td>0.0</td>\n",
              "      <td>0.000000</td>\n",
              "      <td>0.000000</td>\n",
              "      <td>0.0</td>\n",
              "      <td>0.000000</td>\n",
              "      <td>0.0</td>\n",
              "      <td>0.000000</td>\n",
              "      <td>0.0</td>\n",
              "      <td>0.000000</td>\n",
              "      <td>0.0</td>\n",
              "      <td>0.000000</td>\n",
              "      <td>0.0</td>\n",
              "      <td>0.000000</td>\n",
              "      <td>0.0</td>\n",
              "      <td>0.000000</td>\n",
              "      <td>0.0</td>\n",
              "      <td>0.042600</td>\n",
              "      <td>0.0</td>\n",
              "      <td>0.0</td>\n",
              "      <td>0.000000</td>\n",
              "      <td>0.0</td>\n",
              "      <td>0.000000</td>\n",
              "      <td>...</td>\n",
              "      <td>0.0</td>\n",
              "      <td>0.000000</td>\n",
              "      <td>0.0</td>\n",
              "      <td>0.033354</td>\n",
              "      <td>0.0</td>\n",
              "      <td>0.0</td>\n",
              "      <td>0.0</td>\n",
              "      <td>0.0</td>\n",
              "      <td>0.0</td>\n",
              "      <td>0.000000</td>\n",
              "      <td>0.0</td>\n",
              "      <td>0.018662</td>\n",
              "      <td>0.0</td>\n",
              "      <td>0.00000</td>\n",
              "      <td>0.0</td>\n",
              "      <td>0.0</td>\n",
              "      <td>0.0</td>\n",
              "      <td>0.0</td>\n",
              "      <td>0.0</td>\n",
              "      <td>0.0</td>\n",
              "      <td>0.0</td>\n",
              "      <td>0.0</td>\n",
              "      <td>0.092173</td>\n",
              "      <td>0.058634</td>\n",
              "      <td>0.0</td>\n",
              "      <td>0.0</td>\n",
              "      <td>0.029629</td>\n",
              "      <td>0.000000</td>\n",
              "      <td>0.000000</td>\n",
              "      <td>0.0</td>\n",
              "      <td>0.073629</td>\n",
              "      <td>0.0</td>\n",
              "      <td>0.0</td>\n",
              "      <td>0.000000</td>\n",
              "      <td>0.0</td>\n",
              "      <td>0.000000</td>\n",
              "      <td>0.0</td>\n",
              "      <td>0.0</td>\n",
              "      <td>0.0</td>\n",
              "      <td>0.0</td>\n",
              "    </tr>\n",
              "    <tr>\n",
              "      <th>2</th>\n",
              "      <td>0.000000</td>\n",
              "      <td>0.00000</td>\n",
              "      <td>0.0</td>\n",
              "      <td>0.0</td>\n",
              "      <td>0.0</td>\n",
              "      <td>0.0</td>\n",
              "      <td>0.0</td>\n",
              "      <td>0.00000</td>\n",
              "      <td>0.0</td>\n",
              "      <td>0.000000</td>\n",
              "      <td>0.0</td>\n",
              "      <td>0.0</td>\n",
              "      <td>0.0</td>\n",
              "      <td>0.000000</td>\n",
              "      <td>0.000000</td>\n",
              "      <td>0.0</td>\n",
              "      <td>0.000000</td>\n",
              "      <td>0.0</td>\n",
              "      <td>0.0</td>\n",
              "      <td>0.000000</td>\n",
              "      <td>0.000000</td>\n",
              "      <td>0.0</td>\n",
              "      <td>0.000000</td>\n",
              "      <td>0.0</td>\n",
              "      <td>0.000000</td>\n",
              "      <td>0.0</td>\n",
              "      <td>0.000000</td>\n",
              "      <td>0.0</td>\n",
              "      <td>0.016806</td>\n",
              "      <td>0.0</td>\n",
              "      <td>0.000000</td>\n",
              "      <td>0.0</td>\n",
              "      <td>0.000000</td>\n",
              "      <td>0.0</td>\n",
              "      <td>0.000000</td>\n",
              "      <td>0.0</td>\n",
              "      <td>0.0</td>\n",
              "      <td>0.015744</td>\n",
              "      <td>0.0</td>\n",
              "      <td>0.089332</td>\n",
              "      <td>...</td>\n",
              "      <td>0.0</td>\n",
              "      <td>0.000000</td>\n",
              "      <td>0.0</td>\n",
              "      <td>0.000000</td>\n",
              "      <td>0.0</td>\n",
              "      <td>0.0</td>\n",
              "      <td>0.0</td>\n",
              "      <td>0.0</td>\n",
              "      <td>0.0</td>\n",
              "      <td>0.000000</td>\n",
              "      <td>0.0</td>\n",
              "      <td>0.035700</td>\n",
              "      <td>0.0</td>\n",
              "      <td>0.00000</td>\n",
              "      <td>0.0</td>\n",
              "      <td>0.0</td>\n",
              "      <td>0.0</td>\n",
              "      <td>0.0</td>\n",
              "      <td>0.0</td>\n",
              "      <td>0.0</td>\n",
              "      <td>0.0</td>\n",
              "      <td>0.0</td>\n",
              "      <td>0.014694</td>\n",
              "      <td>0.000000</td>\n",
              "      <td>0.0</td>\n",
              "      <td>0.0</td>\n",
              "      <td>0.014170</td>\n",
              "      <td>0.000000</td>\n",
              "      <td>0.000000</td>\n",
              "      <td>0.0</td>\n",
              "      <td>0.000000</td>\n",
              "      <td>0.0</td>\n",
              "      <td>0.0</td>\n",
              "      <td>0.000000</td>\n",
              "      <td>0.0</td>\n",
              "      <td>0.000000</td>\n",
              "      <td>0.0</td>\n",
              "      <td>0.0</td>\n",
              "      <td>0.0</td>\n",
              "      <td>0.0</td>\n",
              "    </tr>\n",
              "    <tr>\n",
              "      <th>3</th>\n",
              "      <td>0.000000</td>\n",
              "      <td>0.00000</td>\n",
              "      <td>0.0</td>\n",
              "      <td>0.0</td>\n",
              "      <td>0.0</td>\n",
              "      <td>0.0</td>\n",
              "      <td>0.0</td>\n",
              "      <td>0.00000</td>\n",
              "      <td>0.0</td>\n",
              "      <td>0.000000</td>\n",
              "      <td>0.0</td>\n",
              "      <td>0.0</td>\n",
              "      <td>0.0</td>\n",
              "      <td>0.000000</td>\n",
              "      <td>0.000000</td>\n",
              "      <td>0.0</td>\n",
              "      <td>0.030841</td>\n",
              "      <td>0.0</td>\n",
              "      <td>0.0</td>\n",
              "      <td>0.021251</td>\n",
              "      <td>0.000000</td>\n",
              "      <td>0.0</td>\n",
              "      <td>0.000000</td>\n",
              "      <td>0.0</td>\n",
              "      <td>0.000000</td>\n",
              "      <td>0.0</td>\n",
              "      <td>0.000000</td>\n",
              "      <td>0.0</td>\n",
              "      <td>0.000000</td>\n",
              "      <td>0.0</td>\n",
              "      <td>0.000000</td>\n",
              "      <td>0.0</td>\n",
              "      <td>0.000000</td>\n",
              "      <td>0.0</td>\n",
              "      <td>0.000000</td>\n",
              "      <td>0.0</td>\n",
              "      <td>0.0</td>\n",
              "      <td>0.000000</td>\n",
              "      <td>0.0</td>\n",
              "      <td>0.000000</td>\n",
              "      <td>...</td>\n",
              "      <td>0.0</td>\n",
              "      <td>0.000000</td>\n",
              "      <td>0.0</td>\n",
              "      <td>0.018478</td>\n",
              "      <td>0.0</td>\n",
              "      <td>0.0</td>\n",
              "      <td>0.0</td>\n",
              "      <td>0.0</td>\n",
              "      <td>0.0</td>\n",
              "      <td>0.000000</td>\n",
              "      <td>0.0</td>\n",
              "      <td>0.072367</td>\n",
              "      <td>0.0</td>\n",
              "      <td>0.02895</td>\n",
              "      <td>0.0</td>\n",
              "      <td>0.0</td>\n",
              "      <td>0.0</td>\n",
              "      <td>0.0</td>\n",
              "      <td>0.0</td>\n",
              "      <td>0.0</td>\n",
              "      <td>0.0</td>\n",
              "      <td>0.0</td>\n",
              "      <td>0.000000</td>\n",
              "      <td>0.000000</td>\n",
              "      <td>0.0</td>\n",
              "      <td>0.0</td>\n",
              "      <td>0.082070</td>\n",
              "      <td>0.055908</td>\n",
              "      <td>0.021972</td>\n",
              "      <td>0.0</td>\n",
              "      <td>0.020394</td>\n",
              "      <td>0.0</td>\n",
              "      <td>0.0</td>\n",
              "      <td>0.000000</td>\n",
              "      <td>0.0</td>\n",
              "      <td>0.000000</td>\n",
              "      <td>0.0</td>\n",
              "      <td>0.0</td>\n",
              "      <td>0.0</td>\n",
              "      <td>0.0</td>\n",
              "    </tr>\n",
              "    <tr>\n",
              "      <th>4</th>\n",
              "      <td>0.153675</td>\n",
              "      <td>0.03924</td>\n",
              "      <td>0.0</td>\n",
              "      <td>0.0</td>\n",
              "      <td>0.0</td>\n",
              "      <td>0.0</td>\n",
              "      <td>0.0</td>\n",
              "      <td>0.00000</td>\n",
              "      <td>0.0</td>\n",
              "      <td>0.000000</td>\n",
              "      <td>0.0</td>\n",
              "      <td>0.0</td>\n",
              "      <td>0.0</td>\n",
              "      <td>0.000000</td>\n",
              "      <td>0.102258</td>\n",
              "      <td>0.0</td>\n",
              "      <td>0.000000</td>\n",
              "      <td>0.0</td>\n",
              "      <td>0.0</td>\n",
              "      <td>0.000000</td>\n",
              "      <td>0.030251</td>\n",
              "      <td>0.0</td>\n",
              "      <td>0.000000</td>\n",
              "      <td>0.0</td>\n",
              "      <td>0.000000</td>\n",
              "      <td>0.0</td>\n",
              "      <td>0.039756</td>\n",
              "      <td>0.0</td>\n",
              "      <td>0.000000</td>\n",
              "      <td>0.0</td>\n",
              "      <td>0.000000</td>\n",
              "      <td>0.0</td>\n",
              "      <td>0.000000</td>\n",
              "      <td>0.0</td>\n",
              "      <td>0.000000</td>\n",
              "      <td>0.0</td>\n",
              "      <td>0.0</td>\n",
              "      <td>0.000000</td>\n",
              "      <td>0.0</td>\n",
              "      <td>0.000000</td>\n",
              "      <td>...</td>\n",
              "      <td>0.0</td>\n",
              "      <td>0.000000</td>\n",
              "      <td>0.0</td>\n",
              "      <td>0.000000</td>\n",
              "      <td>0.0</td>\n",
              "      <td>0.0</td>\n",
              "      <td>0.0</td>\n",
              "      <td>0.0</td>\n",
              "      <td>0.0</td>\n",
              "      <td>0.000000</td>\n",
              "      <td>0.0</td>\n",
              "      <td>0.000000</td>\n",
              "      <td>0.0</td>\n",
              "      <td>0.00000</td>\n",
              "      <td>0.0</td>\n",
              "      <td>0.0</td>\n",
              "      <td>0.0</td>\n",
              "      <td>0.0</td>\n",
              "      <td>0.0</td>\n",
              "      <td>0.0</td>\n",
              "      <td>0.0</td>\n",
              "      <td>0.0</td>\n",
              "      <td>0.000000</td>\n",
              "      <td>0.000000</td>\n",
              "      <td>0.0</td>\n",
              "      <td>0.0</td>\n",
              "      <td>0.023158</td>\n",
              "      <td>0.000000</td>\n",
              "      <td>0.030999</td>\n",
              "      <td>0.0</td>\n",
              "      <td>0.000000</td>\n",
              "      <td>0.0</td>\n",
              "      <td>0.0</td>\n",
              "      <td>0.042712</td>\n",
              "      <td>0.0</td>\n",
              "      <td>0.000000</td>\n",
              "      <td>0.0</td>\n",
              "      <td>0.0</td>\n",
              "      <td>0.0</td>\n",
              "      <td>0.0</td>\n",
              "    </tr>\n",
              "  </tbody>\n",
              "</table>\n",
              "<p>5 rows × 5000 columns</p>\n",
              "</div>"
            ],
            "text/plain": [
              "      aaron  abandon  abc  abc news  abe  ...      zero  zika  zionist  zone   zu\n",
              "0  0.000000  0.00000  0.0       0.0  0.0  ...  0.016183   0.0      0.0   0.0  0.0\n",
              "1  0.000000  0.00000  0.0       0.0  0.0  ...  0.000000   0.0      0.0   0.0  0.0\n",
              "2  0.000000  0.00000  0.0       0.0  0.0  ...  0.000000   0.0      0.0   0.0  0.0\n",
              "3  0.000000  0.00000  0.0       0.0  0.0  ...  0.000000   0.0      0.0   0.0  0.0\n",
              "4  0.153675  0.03924  0.0       0.0  0.0  ...  0.000000   0.0      0.0   0.0  0.0\n",
              "\n",
              "[5 rows x 5000 columns]"
            ]
          },
          "metadata": {},
          "execution_count": 28
        }
      ]
    },
    {
      "cell_type": "code",
      "metadata": {
        "id": "FvMHPN8p6ZOi"
      },
      "source": [
        "import matplotlib.pyplot as plt"
      ],
      "execution_count": 29,
      "outputs": []
    },
    {
      "cell_type": "code",
      "metadata": {
        "id": "yrZPlDQi6bZo"
      },
      "source": [
        "def plot_confusion_matrix(cm, classes,\n",
        "                          normalize=False,\n",
        "                          title='Confusion matrix',\n",
        "                          cmap=plt.cm.Blues):\n",
        "    \"\"\"\n",
        "    See full source and example: \n",
        "    http://scikit-learn.org/stable/auto_examples/model_selection/plot_confusion_matrix.html\n",
        "    \n",
        "    This function prints and plots the confusion matrix.\n",
        "    Normalization can be applied by setting `normalize=True`.\n",
        "    \"\"\"\n",
        "    plt.imshow(cm, interpolation='nearest', cmap=cmap)\n",
        "    plt.title(title)\n",
        "    plt.colorbar()\n",
        "    tick_marks = np.arange(len(classes))\n",
        "    plt.xticks(tick_marks, classes, rotation=45)\n",
        "    plt.yticks(tick_marks, classes)\n",
        "\n",
        "    if normalize:\n",
        "        cm = cm.astype('float') / cm.sum(axis=1)[:, np.newaxis]\n",
        "        print(\"Normalized confusion matrix\")\n",
        "    else:\n",
        "        print('Confusion matrix, without normalization')\n",
        "\n",
        "    thresh = cm.max() / 2.\n",
        "    for i, j in itertools.product(range(cm.shape[0]), range(cm.shape[1])):\n",
        "        plt.text(j, i, cm[i, j],\n",
        "                 horizontalalignment=\"center\",\n",
        "                 color=\"white\" if cm[i, j] > thresh else \"black\")\n",
        "\n",
        "    plt.tight_layout()\n",
        "    plt.ylabel('True label')\n",
        "    plt.xlabel('Predicted label')"
      ],
      "execution_count": 30,
      "outputs": []
    },
    {
      "cell_type": "markdown",
      "metadata": {
        "id": "m8QUlgsx6jao"
      },
      "source": [
        "MultinomialNB Algorithm"
      ]
    },
    {
      "cell_type": "code",
      "metadata": {
        "id": "2Xd3Y3PJ6h4g"
      },
      "source": [
        "from sklearn.naive_bayes import MultinomialNB\n",
        "classifier=MultinomialNB()"
      ],
      "execution_count": 31,
      "outputs": []
    },
    {
      "cell_type": "code",
      "metadata": {
        "id": "KgFpOmtj6pxF"
      },
      "source": [
        "from sklearn import metrics\n",
        "import numpy as np\n",
        "import itertools"
      ],
      "execution_count": 32,
      "outputs": []
    },
    {
      "cell_type": "code",
      "metadata": {
        "colab": {
          "base_uri": "https://localhost:8080/",
          "height": 345
        },
        "id": "Qbgh_Lyc6sC8",
        "outputId": "211bc12a-9ed9-4b11-d4ed-bebed6678ebe"
      },
      "source": [
        "classifier.fit(X_train, y_train)\n",
        "pred = classifier.predict(X_test)\n",
        "score = metrics.accuracy_score(y_test, pred)\n",
        "print(\"accuracy:   %0.3f\" % score)\n",
        "cm = metrics.confusion_matrix(y_test, pred)\n",
        "plot_confusion_matrix(cm, classes=['FAKE', 'REAL'])"
      ],
      "execution_count": 33,
      "outputs": [
        {
          "output_type": "stream",
          "name": "stdout",
          "text": [
            "accuracy:   0.897\n",
            "Confusion matrix, without normalization\n"
          ]
        },
        {
          "output_type": "display_data",
          "data": {
            "image/png": "[encoded data removed]",
            "text/plain": [
              "<Figure size 432x288 with 2 Axes>"
            ]
          },
          "metadata": {
            "needs_background": "light"
          }
        }
      ]
    },
    {
      "cell_type": "code",
      "metadata": {
        "colab": {
          "base_uri": "https://localhost:8080/"
        },
        "id": "KmY-XoG2_4iH",
        "outputId": "2cf4ad2c-9481-4c80-a11e-20c2001ae72b"
      },
      "source": [
        "classifier.fit(X_train, y_train)\n",
        "pred = classifier.predict(X_test)\n",
        "score = metrics.accuracy_score(y_test, pred)\n",
        "score"
      ],
      "execution_count": 34,
      "outputs": [
        {
          "output_type": "execute_result",
          "data": {
            "text/plain": [
              "0.8966550174737893"
            ]
          },
          "metadata": {},
          "execution_count": 34
        }
      ]
    },
    {
      "cell_type": "code",
      "metadata": {
        "colab": {
          "base_uri": "https://localhost:8080/"
        },
        "id": "YN2hGY3jBEGn",
        "outputId": "fdb179a6-faed-4213-a5a6-284461e02067"
      },
      "source": [
        "y_train.shape"
      ],
      "execution_count": 35,
      "outputs": [
        {
          "output_type": "execute_result",
          "data": {
            "text/plain": [
              "(12200,)"
            ]
          },
          "metadata": {},
          "execution_count": 35
        }
      ]
    },
    {
      "cell_type": "markdown",
      "metadata": {
        "id": "IXXHbVU6FDtz"
      },
      "source": [
        "Passive Aggressive Classifier Algorithm"
      ]
    },
    {
      "cell_type": "code",
      "metadata": {
        "id": "Cpqyda1GEGPw"
      },
      "source": [
        "from sklearn.linear_model import PassiveAggressiveClassifier\n",
        "linear_clf = PassiveAggressiveClassifier(max_iter=50)"
      ],
      "execution_count": 36,
      "outputs": []
    },
    {
      "cell_type": "code",
      "metadata": {
        "colab": {
          "base_uri": "https://localhost:8080/",
          "height": 345
        },
        "id": "QFY7buD1UJey",
        "outputId": "85d5c504-d7a5-46c8-d9ac-c96bdbf012be"
      },
      "source": [
        "linear_clf.fit(X_train, y_train)\n",
        "pred = linear_clf.predict(X_test)\n",
        "score = metrics.accuracy_score(y_test, pred)\n",
        "print(\"accuracy:   %0.3f\" % score)\n",
        "cm = metrics.confusion_matrix(y_test, pred)\n",
        "plot_confusion_matrix(cm, classes=['FAKE Data', 'REAL Data'])"
      ],
      "execution_count": 37,
      "outputs": [
        {
          "output_type": "stream",
          "name": "stdout",
          "text": [
            "accuracy:   0.952\n",
            "Confusion matrix, without normalization\n"
          ]
        },
        {
          "output_type": "display_data",
          "data": {
            "image/png": "[encoded data removed]",
            "text/plain": [
              "<Figure size 432x288 with 2 Axes>"
            ]
          },
          "metadata": {
            "needs_background": "light"
          }
        }
      ]
    },
    {
      "cell_type": "markdown",
      "metadata": {
        "id": "_YzLsIt2UfYx"
      },
      "source": [
        "Multinomial Classifier with Hyperparameter"
      ]
    },
    {
      "cell_type": "code",
      "metadata": {
        "id": "YJsmgSvlUiCn"
      },
      "source": [
        "classifier=MultinomialNB(alpha=0.1)"
      ],
      "execution_count": 38,
      "outputs": []
    },
    {
      "cell_type": "code",
      "metadata": {
        "colab": {
          "base_uri": "https://localhost:8080/"
        },
        "id": "ZeCFI7f6UlkR",
        "outputId": "79056b37-03bf-4a02-e8dd-ffee7df463a3"
      },
      "source": [
        "previous_score=0\n",
        "for alpha in np.arange(0,1,0.1):\n",
        "    sub_classifier=MultinomialNB(alpha=alpha)\n",
        "    sub_classifier.fit(X_train,y_train)\n",
        "    y_pred=sub_classifier.predict(X_test)\n",
        "    score = metrics.accuracy_score(y_test, y_pred)\n",
        "    if score>previous_score:\n",
        "        classifier=sub_classifier\n",
        "    print(\"Alpha: {}, Score : {}\".format(alpha,score))"
      ],
      "execution_count": 39,
      "outputs": [
        {
          "output_type": "stream",
          "name": "stderr",
          "text": [
            "/usr/local/lib/python3.7/dist-packages/sklearn/naive_bayes.py:557: UserWarning: alpha too small will result in numeric errors, setting alpha = 1.0e-10\n",
            "  % _ALPHA_MIN\n"
          ]
        },
        {
          "output_type": "stream",
          "name": "stdout",
          "text": [
            "Alpha: 0.0, Score : 0.9008154435014145\n",
            "Alpha: 0.1, Score : 0.8981527708437343\n",
            "Alpha: 0.2, Score : 0.8983191878848394\n",
            "Alpha: 0.30000000000000004, Score : 0.8978199367615244\n",
            "Alpha: 0.4, Score : 0.8974871026793143\n",
            "Alpha: 0.5, Score : 0.8969878515559994\n",
            "Alpha: 0.6000000000000001, Score : 0.8964886004326843\n",
            "Alpha: 0.7000000000000001, Score : 0.8964886004326843\n",
            "Alpha: 0.8, Score : 0.8966550174737893\n",
            "Alpha: 0.9, Score : 0.8966550174737893\n"
          ]
        }
      ]
    },
    {
      "cell_type": "code",
      "metadata": {
        "id": "dLd7kZvWlaFN"
      },
      "source": [
        "## Applying Countvectorizer\n",
        "# Creating the Bag of Words model\n",
        "from sklearn.feature_extraction.text import CountVectorizer\n",
        "cv = CountVectorizer(max_features=5000,ngram_range=(1,3))\n",
        "X = cv.fit_transform(corpus).toarray()"
      ],
      "execution_count": 42,
      "outputs": []
    },
    {
      "cell_type": "code",
      "metadata": {
        "colab": {
          "base_uri": "https://localhost:8080/"
        },
        "id": "jGGF89ILUqzd",
        "outputId": "3396f307-3c4a-4074-b3df-ed5a64c45a49"
      },
      "source": [
        "## Get Features names\n",
        "#from sklearn import CountVectorizor as cv\n",
        "feature_names = cv.get_feature_names()"
      ],
      "execution_count": 43,
      "outputs": [
        {
          "output_type": "stream",
          "name": "stderr",
          "text": [
            "/usr/local/lib/python3.7/dist-packages/sklearn/utils/deprecation.py:87: FutureWarning: Function get_feature_names is deprecated; get_feature_names is deprecated in 1.0 and will be removed in 1.2. Please use get_feature_names_out instead.\n",
            "  warnings.warn(msg, category=FutureWarning)\n"
          ]
        }
      ]
    },
    {
      "cell_type": "code",
      "metadata": {
        "colab": {
          "base_uri": "https://localhost:8080/"
        },
        "id": "CvLB1zMFY0pv",
        "outputId": "c1db6291-e6be-4336-fb6f-467937b0fe6c"
      },
      "source": [
        "classifier.coef_[0]"
      ],
      "execution_count": 44,
      "outputs": [
        {
          "output_type": "stream",
          "name": "stderr",
          "text": [
            "/usr/local/lib/python3.7/dist-packages/sklearn/utils/deprecation.py:103: FutureWarning: Attribute `coef_` was deprecated in version 0.24 and will be removed in 1.1 (renaming of 0.26).\n",
            "  warnings.warn(msg, category=FutureWarning)\n"
          ]
        },
        {
          "output_type": "execute_result",
          "data": {
            "text/plain": [
              "array([-9.51951422, -8.92765895, -8.73586544, ..., -9.11493734,\n",
              "       -8.16071825, -8.39064533])"
            ]
          },
          "metadata": {},
          "execution_count": 44
        }
      ]
    },
    {
      "cell_type": "code",
      "metadata": {
        "colab": {
          "base_uri": "https://localhost:8080/",
          "height": 269
        },
        "id": "pMaJxVcwnS18",
        "outputId": "bde6a0d2-1d73-4ea7-a610-80d70f1a449a"
      },
      "source": [
        "# Seaborn visualization library\n",
        "import seaborn as sns\n",
        "# Create the default pairplot\n",
        "df1 = pd.DataFrame(classifier.coef_[0])\n",
        "sns.pairplot(df1)"
      ],
      "execution_count": 49,
      "outputs": [
        {
          "output_type": "stream",
          "name": "stderr",
          "text": [
            "/usr/local/lib/python3.7/dist-packages/sklearn/utils/deprecation.py:103: FutureWarning: Attribute `coef_` was deprecated in version 0.24 and will be removed in 1.1 (renaming of 0.26).\n",
            "  warnings.warn(msg, category=FutureWarning)\n"
          ]
        },
        {
          "output_type": "execute_result",
          "data": {
            "text/plain": [
              "<seaborn.axisgrid.PairGrid at 0x7f743617bf10>"
            ]
          },
          "metadata": {},
          "execution_count": 49
        },
        {
          "output_type": "display_data",
          "data": {
            "image/png": "[encoded data removed]",
            "text/plain": [
              "<Figure size 180x180 with 2 Axes>"
            ]
          },
          "metadata": {
            "needs_background": "light"
          }
        }
      ]
    },
    {
      "cell_type": "code",
      "metadata": {
        "colab": {
          "base_uri": "https://localhost:8080/"
        },
        "id": "C-BZcNlaY78m",
        "outputId": "2eb491a6-b15c-4e76-a59f-98c77127168b"
      },
      "source": [
        "### Most real\n",
        "sorted(zip(classifier.coef_[0], feature_names), reverse=True)[:20]"
      ],
      "execution_count": 53,
      "outputs": [
        {
          "output_type": "stream",
          "name": "stderr",
          "text": [
            "/usr/local/lib/python3.7/dist-packages/sklearn/utils/deprecation.py:103: FutureWarning: Attribute `coef_` was deprecated in version 0.24 and will be removed in 1.1 (renaming of 0.26).\n",
            "  warnings.warn(msg, category=FutureWarning)\n"
          ]
        },
        {
          "output_type": "execute_result",
          "data": {
            "text/plain": [
              "[(-5.084713468302288, 'heal'),\n",
              " (-5.1534183430226035, 'investig hillari'),\n",
              " (-5.203643929663258, 'court'),\n",
              " (-5.434968495884405, 'destruct'),\n",
              " (-5.481610059506334, 'paper'),\n",
              " (-5.493281883437685, 'stanford'),\n",
              " (-5.501520114816171, 'saudi'),\n",
              " (-5.5657647561465975, 'choic'),\n",
              " (-5.592184970208939, 'talk'),\n",
              " (-5.691667394914751, 'gene'),\n",
              " (-5.707782522707934, 'punch'),\n",
              " (-5.722146188069233, 'yesterday'),\n",
              " (-5.7956634585304085, 'alan'),\n",
              " (-5.840189740591959, 'sector'),\n",
              " (-5.934057227148873, 'stir'),\n",
              " (-5.938425271100749, 'jr'),\n",
              " (-5.94273346735684, 'consciou'),\n",
              " (-5.985958522014361, 'mr penc'),\n",
              " (-5.993963209008028, 'instal'),\n",
              " (-6.0216304069251345, 'expens')]"
            ]
          },
          "metadata": {},
          "execution_count": 53
        }
      ]
    },
    {
      "cell_type": "code",
      "metadata": {
        "colab": {
          "base_uri": "https://localhost:8080/"
        },
        "id": "POCQlxY7ZKQB",
        "outputId": "ac7a8678-2181-4a15-ef84-4b5eff428616"
      },
      "source": [
        "### Most fake\n",
        "sorted(zip(classifier.coef_[0], feature_names))[:5000]"
      ],
      "execution_count": 54,
      "outputs": [
        {
          "output_type": "stream",
          "name": "stderr",
          "text": [
            "/usr/local/lib/python3.7/dist-packages/sklearn/utils/deprecation.py:103: FutureWarning: Attribute `coef_` was deprecated in version 0.24 and will be removed in 1.1 (renaming of 0.26).\n",
            "  warnings.warn(msg, category=FutureWarning)\n"
          ]
        },
        {
          "output_type": "execute_result",
          "data": {
            "text/plain": [
              "[(-10.896760662034907, 'deleg'),\n",
              " (-10.891489084314792, 'diseas'),\n",
              " (-10.855724172680969, 'less like'),\n",
              " (-10.846392531546456, 'row'),\n",
              " (-10.842465236200667, 'et'),\n",
              " (-10.837104178001274, 'rural'),\n",
              " (-10.835447947906324, 'press confer'),\n",
              " (-10.835143588147211, 'elect donald trump'),\n",
              " (-10.833427030498434, 'il'),\n",
              " (-10.833062367815092, 'premium'),\n",
              " (-10.832805788218462, 'electron'),\n",
              " (-10.83084465975088, 'percentag'),\n",
              " (-10.827786540617007, 'discredit'),\n",
              " (-10.82740446850251, 'six'),\n",
              " (-10.826971500809385, 'moreov'),\n",
              " (-10.822495923644539, 'mr ail'),\n",
              " (-10.817177078032257, 'giant'),\n",
              " (-10.81673260472304, 'headquart'),\n",
              " (-10.816462592964768, 'put'),\n",
              " (-10.813345307362452, 'michael'),\n",
              " (-10.811192030013375, 'could also'),\n",
              " (-10.808990340068302, 'sight'),\n",
              " (-10.802977747713598, 'honestli'),\n",
              " (-10.802635582764099, 'joel'),\n",
              " (-10.800325910994959, 'match'),\n",
              " (-10.799155139379664, 'student'),\n",
              " (-10.79914214924026, 'oversea'),\n",
              " (-10.797938596473735, 'backlash'),\n",
              " (-10.797559370172147, 'shower'),\n",
              " (-10.794590452730409, 'countless'),\n",
              " (-10.79343524599627, 'never seen'),\n",
              " (-10.791375892894024, 'email'),\n",
              " (-10.790936689621637, 'older'),\n",
              " (-10.79043780068523, 'prevent'),\n",
              " (-10.78983120910969, 'inspector'),\n",
              " (-10.787439803278321, 'taxpay'),\n",
              " (-10.786844612207446, 'own'),\n",
              " (-10.786095846615265, 'echo'),\n",
              " (-10.782613203654757, 'amnesti'),\n",
              " (-10.780836016146301, 'extremist'),\n",
              " (-10.779200216377063, 'conflict interest'),\n",
              " (-10.7785316244073, 'maneuv'),\n",
              " (-10.776142386544947, 'cheer'),\n",
              " (-10.776139489622897, 'leverag'),\n",
              " (-10.775073982626207, 'app'),\n",
              " (-10.773297078305362, 'public'),\n",
              " (-10.770852004715003, 'creation'),\n",
              " (-10.769885122363586, 'republican presidenti'),\n",
              " (-10.76923435429866, 'welfar'),\n",
              " (-10.769155555179452, 'espn'),\n",
              " (-10.767974084272119, 'toxic'),\n",
              " (-10.766689236036298, 'bias'),\n",
              " (-10.764721166160577, 'wors'),\n",
              " (-10.76277647805404, 'end'),\n",
              " (-10.762761719229777, 'soro'),\n",
              " (-10.76172506089084, 'bureaucrat'),\n",
              " (-10.759216091237938, 'time mr'),\n",
              " (-10.757579441731533, 'also includ'),\n",
              " (-10.754915462875612, 'highway'),\n",
              " (-10.753693113771698, 'suit'),\n",
              " (-10.751875431464315, 'proxi'),\n",
              " (-10.749071816936002, 'argument'),\n",
              " (-10.747844450125262, 'via'),\n",
              " (-10.746284544830786, 'one first'),\n",
              " (-10.745614996132455, 'therapi'),\n",
              " (-10.745071587405825, 'mount'),\n",
              " (-10.744077929897035, 'concept'),\n",
              " (-10.743329302871858, 'sun'),\n",
              " (-10.738501845655758, 'di'),\n",
              " (-10.738076148026993, 'incid'),\n",
              " (-10.736294984441349, 'secretli'),\n",
              " (-10.734620969462927, 'counterpart'),\n",
              " (-10.734032665767966, 'inspect'),\n",
              " (-10.732219127371232, 'democrat nomine'),\n",
              " (-10.73158772800283, 'outlook'),\n",
              " (-10.730154077782514, 'dress'),\n",
              " (-10.726042625647061, 'fuck'),\n",
              " (-10.726036427570312, 'like one'),\n",
              " (-10.724449652796325, 'gold'),\n",
              " (-10.723860378060108, 'qatar'),\n",
              " (-10.72229555516632, 'de lo'),\n",
              " (-10.722286154373032, 'feder law'),\n",
              " (-10.721241639176286, 'stem'),\n",
              " (-10.719872307524936, 'dri'),\n",
              " (-10.71868518094747, 'explod'),\n",
              " (-10.716841438206366, 'situat'),\n",
              " (-10.716262454412583, 'aspir'),\n",
              " (-10.714478275994473, 'last'),\n",
              " (-10.714013386636374, 'greatli'),\n",
              " (-10.713433245063793, 'rape'),\n",
              " (-10.713037327269268, 'quarterback'),\n",
              " (-10.71133897293122, 'bell'),\n",
              " (-10.710737895150826, 'frank'),\n",
              " (-10.708123201745815, 'trace'),\n",
              " (-10.707487502786899, 'one mr'),\n",
              " (-10.706909783547626, 'canadian'),\n",
              " (-10.705780529474707, 'editor'),\n",
              " (-10.704672816651325, 'cuba'),\n",
              " (-10.70310629560918, 'file'),\n",
              " (-10.700964519130537, 'wage'),\n",
              " (-10.700630716243172, 'kansa'),\n",
              " (-10.699051234624918, 'adopt'),\n",
              " (-10.697830938004058, 'dump'),\n",
              " (-10.697366970280672, 'missil'),\n",
              " (-10.697329404924309, 'male'),\n",
              " (-10.696481246829274, 'mr obama said'),\n",
              " (-10.695667154811353, 'shoe'),\n",
              " (-10.694165327516854, 'trump could'),\n",
              " (-10.694014894183244, 'remind'),\n",
              " (-10.693656126463585, 'wealth'),\n",
              " (-10.692551123188856, 'anniversari'),\n",
              " (-10.69247147981866, 'flow'),\n",
              " (-10.691729334731933, 'premier'),\n",
              " (-10.689688838913437, 'give us'),\n",
              " (-10.686659806625999, 'tesla'),\n",
              " (-10.685243373401011, 'mainli'),\n",
              " (-10.682958111828276, 'post'),\n",
              " (-10.682853829799585, 'protect'),\n",
              " (-10.682286778337563, 'sum'),\n",
              " (-10.682192696814116, 'smartphon'),\n",
              " (-10.680461132319687, 'american histori'),\n",
              " (-10.680353185821495, 'suspect'),\n",
              " (-10.677854282110966, 'consumpt'),\n",
              " (-10.677727342461795, 'excus'),\n",
              " (-10.677105850621233, 'california'),\n",
              " (-10.675667198385643, 'latter'),\n",
              " (-10.675575687750177, 'nice'),\n",
              " (-10.67513142147162, 'snapchat'),\n",
              " (-10.673011627923314, 'burn'),\n",
              " (-10.672420074870857, 'nomin'),\n",
              " (-10.670275975158727, 'two hour'),\n",
              " (-10.669085439420343, 'korea'),\n",
              " (-10.668606643755055, 'khan'),\n",
              " (-10.668452853643165, 'distract'),\n",
              " (-10.667897267648952, 'warn'),\n",
              " (-10.667814248756809, 'bed'),\n",
              " (-10.667758466067575, 'tactic'),\n",
              " (-10.667254263567276, 'ideolog'),\n",
              " (-10.667201254567992, 'jerusalem'),\n",
              " (-10.665408324833665, 'would help'),\n",
              " (-10.664306566087221, 'fear'),\n",
              " (-10.663804939784848, 'limit'),\n",
              " (-10.663660759633997, 'remot'),\n",
              " (-10.66354079158908, 'ballot'),\n",
              " (-10.663515856890749, 'pam key twitter'),\n",
              " (-10.66270736271419, 'server'),\n",
              " (-10.662370903904701, 'includ one'),\n",
              " (-10.662007061259802, 'brief'),\n",
              " (-10.661559621187443, 'edg'),\n",
              " (-10.661518937881855, 'weapon'),\n",
              " (-10.660291919791733, 'openli'),\n",
              " (-10.658264017766228, 'presidenti candid'),\n",
              " (-10.657362149905232, 'compound'),\n",
              " (-10.656783227367757, 'neck'),\n",
              " (-10.656350608881354, 'depart offici'),\n",
              " (-10.655758914247574, 'afford care act'),\n",
              " (-10.655459195649781, 'utah'),\n",
              " (-10.655128579547945, 'ami'),\n",
              " (-10.655022750072213, 'injur'),\n",
              " (-10.653959552690582, 'mateen'),\n",
              " (-10.65322704417985, 'seriou'),\n",
              " (-10.651463580064226, 'freez'),\n",
              " (-10.651417606226826, 'contenti'),\n",
              " (-10.65114857453374, 'invit'),\n",
              " (-10.650362061821609, 'pocket'),\n",
              " (-10.649352851335872, 'royal'),\n",
              " (-10.649125914608783, 'new world'),\n",
              " (-10.649076085218189, 'stein'),\n",
              " (-10.64804347989589, 'victim'),\n",
              " (-10.647144227119329, 'bench'),\n",
              " (-10.642725406226985, 'intens'),\n",
              " (-10.641770973680572, 'fli zone'),\n",
              " (-10.641353769692639, 'steal'),\n",
              " (-10.640334738962597, 'juri'),\n",
              " (-10.639814693099657, 'grip'),\n",
              " (-10.639002441701544, 'coincid'),\n",
              " (-10.636567265008832, 'seri'),\n",
              " (-10.636032623927864, 'pan'),\n",
              " (-10.6355545550512, 'lift'),\n",
              " (-10.635315381575955, 'qualiti'),\n",
              " (-10.632941190784251, 'face'),\n",
              " (-10.63255723350944, 'staffer'),\n",
              " (-10.630945136723795, 'signal'),\n",
              " (-10.630518786723346, 'liberti'),\n",
              " (-10.629914138750987, 'intervent'),\n",
              " (-10.629574845181027, 'said would'),\n",
              " (-10.628839138468795, 'la'),\n",
              " (-10.628756593018467, 'baker'),\n",
              " (-10.628685583738854, 'tear'),\n",
              " (-10.628330659198534, 'capitol hill'),\n",
              " (-10.628258666501779, 'news report'),\n",
              " (-10.626928437538263, 'would allow'),\n",
              " (-10.626763780127664, 'deploy'),\n",
              " (-10.626704029147856, 'michel'),\n",
              " (-10.626107638856084, 'histori'),\n",
              " (-10.62396023554786, 'comic'),\n",
              " (-10.621550247717899, 'recent week'),\n",
              " (-10.61964430307291, 'potato'),\n",
              " (-10.618075662041138, 'catch'),\n",
              " (-10.617949370180776, 'account'),\n",
              " (-10.615359682818294, 'prepar'),\n",
              " (-10.614182981733277, 'ga'),\n",
              " (-10.612152696975176, 'campus'),\n",
              " (-10.611677124394596, 'salt'),\n",
              " (-10.61096671704456, 'interact'),\n",
              " (-10.608969176186351, 'swift'),\n",
              " (-10.608571388201936, 'mi'),\n",
              " (-10.607590937613887, 'sever year'),\n",
              " (-10.60741567204086, 'profit'),\n",
              " (-10.6057901990014, 'de la'),\n",
              " (-10.605062774648422, 'seeker'),\n",
              " (-10.60444043423346, 'bipartisan'),\n",
              " (-10.602944090867409, 'fortun'),\n",
              " (-10.6020646182385, 'en'),\n",
              " (-10.601921737972399, 'cartel'),\n",
              " (-10.601558644760498, 'puerto'),\n",
              " (-10.599807320422912, 'footag'),\n",
              " (-10.598784155213655, 'fame'),\n",
              " (-10.596858627404378, 'die'),\n",
              " (-10.59673573603611, 'mother'),\n",
              " (-10.595993091628026, 'presid vladimir'),\n",
              " (-10.59587049354454, 'secretari'),\n",
              " (-10.595866216314382, 'cdc'),\n",
              " (-10.59506574851708, 'breitbart news'),\n",
              " (-10.594887699000276, 'seem'),\n",
              " (-10.594517827727568, 'instruct'),\n",
              " (-10.592098075017919, 'metal'),\n",
              " (-10.59148617043546, 'devic'),\n",
              " (-10.590836354684033, 'young'),\n",
              " (-10.590493422291587, 'transpar'),\n",
              " (-10.589955850917264, 'dem'),\n",
              " (-10.589756413247333, 'festiv'),\n",
              " (-10.589533504985218, 'heart'),\n",
              " (-10.588934044185656, 'reward'),\n",
              " (-10.588903178765491, 'ex'),\n",
              " (-10.588738023052917, 'opera'),\n",
              " (-10.588055079504004, 'viewer'),\n",
              " (-10.586982088101381, 'weird'),\n",
              " (-10.586694346829328, 'medit'),\n",
              " (-10.585388507697335, 'mari'),\n",
              " (-10.584903631671018, 'stop'),\n",
              " (-10.58369239743779, 'alcohol'),\n",
              " (-10.583525609256453, 'sioux'),\n",
              " (-10.58302245005399, 'media outlet'),\n",
              " (-10.582692873167847, 'free speech'),\n",
              " (-10.582660186830603, 'feed'),\n",
              " (-10.581746102340999, 'hint'),\n",
              " (-10.581395940448358, 'will'),\n",
              " (-10.579909380890273, 'mandatori'),\n",
              " (-10.579210614076574, 'gender'),\n",
              " (-10.579195774156958, 'lend'),\n",
              " (-10.578802734996827, 'sexist'),\n",
              " (-10.57830317062153, 'movi'),\n",
              " (-10.576045314523904, 'roof'),\n",
              " (-10.575470493149748, 'man'),\n",
              " (-10.574058687844186, 'oppos'),\n",
              " (-10.572658879538702, 'doj'),\n",
              " (-10.571431329289508, 'shown'),\n",
              " (-10.571409381725514, 'eric'),\n",
              " (-10.570832822793463, 'million american'),\n",
              " (-10.570445789484712, 'project verita'),\n",
              " (-10.570375078158177, 'inclus'),\n",
              " (-10.569778208787083, 'berlin'),\n",
              " (-10.569326085950578, 'veteran'),\n",
              " (-10.568363770230842, 'scrutini'),\n",
              " (-10.56623983514663, 'killer'),\n",
              " (-10.56430232258526, 'past'),\n",
              " (-10.562173390778801, 'ye'),\n",
              " (-10.560777977139393, 'lost'),\n",
              " (-10.560376713179679, 'mosquito'),\n",
              " (-10.56012436680147, 'brief post'),\n",
              " (-10.559716320611237, 'time said'),\n",
              " (-10.558067547827584, 'graham'),\n",
              " (-10.557958030063153, 'strain'),\n",
              " (-10.55624525988474, 'legal'),\n",
              " (-10.55620027618499, 'count'),\n",
              " (-10.556059691967981, 'tortur'),\n",
              " (-10.555864628961073, 'specif'),\n",
              " (-10.555681072951907, 'item'),\n",
              " (-10.555659015709972, 'patriot'),\n",
              " (-10.555492337273105, 'anchor'),\n",
              " (-10.5549186579669, 'week mr'),\n",
              " (-10.552410511172047, 'would take'),\n",
              " (-10.550656609719686, 'recruit'),\n",
              " (-10.549666608234517, 'controversi'),\n",
              " (-10.548292262468026, 'non'),\n",
              " (-10.547849902979847, 'und'),\n",
              " (-10.546393286067484, 'propel'),\n",
              " (-10.545681573771036, 'hors'),\n",
              " (-10.545658883695028, 'drove'),\n",
              " (-10.545185335430507, 'scienc'),\n",
              " (-10.544526263637625, 'insan'),\n",
              " (-10.544097469054977, 'chief staff'),\n",
              " (-10.543394600159074, 'mr netanyahu'),\n",
              " (-10.543122221318903, 'nune'),\n",
              " (-10.542120802977513, 'felt'),\n",
              " (-10.5416891999233, 'org'),\n",
              " (-10.54032105191964, 'sexual assault'),\n",
              " (-10.539769159705202, 'full'),\n",
              " (-10.537615686221901, 'version'),\n",
              " (-10.535797456206561, 'run'),\n",
              " (-10.535541594505682, 'desert'),\n",
              " (-10.534907725998249, 'nytim com'),\n",
              " (-10.5344832503002, 'support trump'),\n",
              " (-10.53403609840406, 'manhattan'),\n",
              " (-10.53327148871054, 'magnet'),\n",
              " (-10.53252631860019, 'nsa'),\n",
              " (-10.532518550210535, 'princ'),\n",
              " (-10.532365571130688, 'precis'),\n",
              " (-10.532053087995497, 'twitter account'),\n",
              " (-10.531402810659664, 'bomb'),\n",
              " (-10.530940290527585, 'fatal'),\n",
              " (-10.52998686902904, 'overwhelm'),\n",
              " (-10.529923476995497, 'pm'),\n",
              " (-10.529506674209598, 'bargain'),\n",
              " (-10.529176434241478, 'thrown'),\n",
              " (-10.528665058563458, 'yahoo'),\n",
              " (-10.528517539511116, 'solar'),\n",
              " (-10.528415289223876, 'son'),\n",
              " (-10.528299356829516, 'convent'),\n",
              " (-10.527654026217974, 'period'),\n",
              " (-10.527243889863747, 'finish'),\n",
              " (-10.5260876294133, 'cycl'),\n",
              " (-10.525932721106532, 'gari'),\n",
              " (-10.525698299712575, 'came'),\n",
              " (-10.525638282082449, 'britain'),\n",
              " (-10.525576617867927, 'columnist'),\n",
              " (-10.52550069190523, 'home'),\n",
              " (-10.524281567998255, 'agenda'),\n",
              " (-10.52383081500194, 'fulfil'),\n",
              " (-10.522789070790585, 'sentenc'),\n",
              " (-10.52237840635688, 'abedin'),\n",
              " (-10.522056747894759, 'harvest'),\n",
              " (-10.521470327731395, 'statist'),\n",
              " (-10.520863964656897, 'propaganda'),\n",
              " (-10.520196383356106, 'dc'),\n",
              " (-10.520075854120138, 'kasich'),\n",
              " (-10.519455838627271, 'netherland'),\n",
              " (-10.519113364229081, 'tuesday night'),\n",
              " (-10.51908000066762, 'bless'),\n",
              " (-10.518909674261934, 'steven'),\n",
              " (-10.518900763653875, 'also said'),\n",
              " (-10.518880607158334, 'financ'),\n",
              " (-10.518706911631938, 'euro'),\n",
              " (-10.518302155816574, 'angela'),\n",
              " (-10.517669306537337, 'pipelin'),\n",
              " (-10.517233777715997, 'gear'),\n",
              " (-10.516944785373317, 'want'),\n",
              " (-10.516150340920076, 'imposs'),\n",
              " (-10.51590316811518, 'correspond'),\n",
              " (-10.514002915793244, 'independ'),\n",
              " (-10.51223419939743, 'authent'),\n",
              " (-10.512207923218533, 'vote mr'),\n",
              " (-10.51199682234803, 'fail'),\n",
              " (-10.511577373366071, 'uniform'),\n",
              " (-10.51121620474768, 'wednesday'),\n",
              " (-10.511088108338486, 'tower'),\n",
              " (-10.510932973356768, 'peter'),\n",
              " (-10.510595292375212, 'read'),\n",
              " (-10.510453193866324, 'peopl like'),\n",
              " (-10.508808584317341, 'harder'),\n",
              " (-10.508342139497518, 'prais'),\n",
              " (-10.508318857921747, 'anymor'),\n",
              " (-10.50813843615655, 'daili mail'),\n",
              " (-10.506984144250728, 'trump presid'),\n",
              " (-10.50534470198148, 'revers'),\n",
              " (-10.504950148692648, 'troll'),\n",
              " (-10.504350386336522, 'ignor'),\n",
              " (-10.50359451363378, 'piec'),\n",
              " (-10.500964220429134, 'kind'),\n",
              " (-10.500723395867835, 'democrat nation'),\n",
              " (-10.500484014053525, 'south'),\n",
              " (-10.499706856199316, 'pic twitter com'),\n",
              " (-10.499415847758826, 'peopl know'),\n",
              " (-10.49812698807578, 'board'),\n",
              " (-10.49605160278195, 'across'),\n",
              " (-10.495304896956956, 'stadium'),\n",
              " (-10.495192602251786, 'entranc'),\n",
              " (-10.49462030000053, 'chamber'),\n",
              " (-10.493929585549589, 'cia'),\n",
              " (-10.491605258047748, 'pretti'),\n",
              " (-10.49158207026865, 'wash'),\n",
              " (-10.491522928021698, 'process'),\n",
              " (-10.4906981130254, 'persist'),\n",
              " (-10.490008113896508, 'strict'),\n",
              " (-10.488250487365644, 'infowar life'),\n",
              " (-10.488131448458814, 'island'),\n",
              " (-10.488121599765044, 'resum'),\n",
              " (-10.48779082367746, 'sugar'),\n",
              " (-10.487779344889795, 'jump'),\n",
              " (-10.487134968249075, 'eve'),\n",
              " (-10.486815664204594, 'pass'),\n",
              " (-10.483694081307199, 'meanwhil'),\n",
              " (-10.483393912835746, 'lo angel'),\n",
              " (-10.482336895876847, 'cloth'),\n",
              " (-10.482252214144983, 'republican parti'),\n",
              " (-10.481391028937049, 'bottom'),\n",
              " (-10.480830868595731, 'new administr'),\n",
              " (-10.480461886158892, 'cheat'),\n",
              " (-10.479822919285704, 'email server'),\n",
              " (-10.479324801522605, 'china sea'),\n",
              " (-10.479184975766632, 'helmet'),\n",
              " (-10.479031502770011, 'badli'),\n",
              " (-10.478498010232546, 'belief'),\n",
              " (-10.478072036380135, 'thank'),\n",
              " (-10.477457576670947, 'peopl come'),\n",
              " (-10.477284045862461, 'summit'),\n",
              " (-10.47366825372558, 'sovereign'),\n",
              " (-10.47256221618438, 'cours'),\n",
              " (-10.470721883171855, 'incarcer'),\n",
              " (-10.470611523680935, 'uber'),\n",
              " (-10.470449931768808, 'abroad'),\n",
              " (-10.467926332455065, 'eat'),\n",
              " (-10.467736735202601, 'ted cruz'),\n",
              " (-10.467246485517869, 'estim'),\n",
              " (-10.466923873888973, 'type'),\n",
              " (-10.466711225830965, 'poison'),\n",
              " (-10.466254086617935, 'switzerland'),\n",
              " (-10.465493007477718, 'pacif'),\n",
              " (-10.463481281659371, 'moor'),\n",
              " (-10.463080739458668, 'along'),\n",
              " (-10.462431812296785, 'queen'),\n",
              " (-10.462374783026343, 'abil'),\n",
              " (-10.462199782611494, 'sarah'),\n",
              " (-10.462102635947119, 'final'),\n",
              " (-10.460765864553423, 'said also'),\n",
              " (-10.460649042733358, 'fargo'),\n",
              " (-10.458007579274998, 'chuck'),\n",
              " (-10.457990653540222, 'cancel'),\n",
              " (-10.457367788149265, 'deep state'),\n",
              " (-10.456529998289563, 'lord'),\n",
              " (-10.456193902008161, 'rais'),\n",
              " (-10.455613988863643, 'want go'),\n",
              " (-10.455277406830843, 'der'),\n",
              " (-10.455141340390782, 'obamacar'),\n",
              " (-10.45377839717041, 'creat'),\n",
              " (-10.453754645178003, 'suspici'),\n",
              " (-10.453212701714891, 'jon'),\n",
              " (-10.453174197312443, 'lion'),\n",
              " (-10.451367797259442, 'everi'),\n",
              " (-10.451263891911475, 'bin'),\n",
              " (-10.44975351318336, 'join'),\n",
              " (-10.44841766895397, 'note'),\n",
              " (-10.447994060594873, 'increasingli'),\n",
              " (-10.44742539680902, 'democrat parti'),\n",
              " (-10.446934569121927, 'exposur'),\n",
              " (-10.44692998605487, 'wait'),\n",
              " (-10.446373073012893, 'luck'),\n",
              " (-10.446271030014236, 'huge'),\n",
              " (-10.446259365165691, 'swamp'),\n",
              " (-10.445305387872525, 'school'),\n",
              " (-10.444917043141373, 'breitbart'),\n",
              " (-10.444895694633693, 'hub'),\n",
              " (-10.444608413073224, 'alleg'),\n",
              " (-10.444115796724425, 'rt'),\n",
              " (-10.442865144087175, 'midnight'),\n",
              " (-10.442532848305603, 'proper'),\n",
              " (-10.442509113009859, 'trillion'),\n",
              " (-10.442100929858027, 'ms'),\n",
              " (-10.441733138547612, 'parliamentari'),\n",
              " (-10.440458708131368, 'revis'),\n",
              " (-10.440256280443517, 'either'),\n",
              " (-10.439948543634852, 'vega'),\n",
              " (-10.439868376280112, 'yiannopoulo'),\n",
              " (-10.43981864445474, 'theft'),\n",
              " (-10.439307826788228, 'minor'),\n",
              " (-10.43827964958028, 'prime'),\n",
              " (-10.438216106802969, 'afterward'),\n",
              " (-10.438187788489437, 'head'),\n",
              " (-10.4371294628117, 'compel'),\n",
              " (-10.436088538955914, 'distribut'),\n",
              " (-10.435386676675455, 'right wing'),\n",
              " (-10.434818669217591, 'volkswagen'),\n",
              " (-10.43478521015864, 'would'),\n",
              " (-10.434748631497325, 'contain'),\n",
              " (-10.434546800189853, 'louisiana'),\n",
              " (-10.434119338455004, 'joseph'),\n",
              " (-10.433311123148757, 'rose'),\n",
              " (-10.433014016278584, 'women'),\n",
              " (-10.432884865349733, 'nation'),\n",
              " (-10.43235361398041, 'fee'),\n",
              " (-10.432342556921414, 'score'),\n",
              " (-10.431978441344434, 'ceas'),\n",
              " (-10.431595200987296, 'norway'),\n",
              " (-10.43083816339664, 'exercis'),\n",
              " (-10.430712972281892, 'exit'),\n",
              " (-10.430123142439491, 'possess'),\n",
              " (-10.42927446313013, 'newslett'),\n",
              " (-10.429120102537189, 'search'),\n",
              " (-10.428982768936574, 'interrog'),\n",
              " (-10.428429608364654, 'mnuchin'),\n",
              " (-10.42723207029836, 'chicago'),\n",
              " (-10.426538585267156, 'deposit'),\n",
              " (-10.426126263148191, 'poster'),\n",
              " (-10.425867689262008, 'unconstitut'),\n",
              " (-10.42569717675274, 'though'),\n",
              " (-10.42496963631756, 'understood'),\n",
              " (-10.424706118202552, 'dakota access pipelin'),\n",
              " (-10.42375652154552, 'noth'),\n",
              " (-10.423239375955335, 'poll'),\n",
              " (-10.423036598416427, 'room'),\n",
              " (-10.42289484552837, 'diminish'),\n",
              " (-10.422517247698359, 'reiter'),\n",
              " (-10.42228588714714, 'excerpt'),\n",
              " (-10.422162363831454, 'war crime'),\n",
              " (-10.421883382804657, 'hike'),\n",
              " (-10.420473908559714, 'expect'),\n",
              " (-10.42009530536017, 'silicon valley'),\n",
              " (-10.419528348155678, 'bread'),\n",
              " (-10.41952433200956, 'mid'),\n",
              " (-10.418334704214667, 'well known'),\n",
              " (-10.418032182074903, 'america great'),\n",
              " (-10.417517240896357, 'place'),\n",
              " (-10.416795009225847, 'lie'),\n",
              " (-10.416740107941061, 'refus'),\n",
              " (-10.416464978939567, 'good news'),\n",
              " (-10.416305240470768, 'violent'),\n",
              " (-10.416123675074441, 'vladimir'),\n",
              " (-10.41601371532255, 'studio'),\n",
              " (-10.415800911982227, 'survey'),\n",
              " (-10.415469493933013, 'conspiraci'),\n",
              " (-10.41526557486606, 'hey'),\n",
              " (-10.415211842148773, 'colorado'),\n",
              " (-10.414997265526369, 'ticket'),\n",
              " (-10.414161933705234, 'crew'),\n",
              " (-10.41415716496899, 'futur'),\n",
              " (-10.413860212440659, 'racist'),\n",
              " (-10.413510021301176, 'inquiri'),\n",
              " (-10.413333856089517, 'perman'),\n",
              " (-10.413202618533068, 'michigan'),\n",
              " (-10.413032887621863, 'ryan'),\n",
              " (-10.412934595953686, 'first place'),\n",
              " (-10.409435694477143, 'hunter'),\n",
              " (-10.40908126079234, 'creamer'),\n",
              " (-10.408296027097245, 'william'),\n",
              " (-10.408230691723904, 'york citi'),\n",
              " (-10.408172423143997, 'oblig'),\n",
              " (-10.40760304901527, 'subject'),\n",
              " (-10.407342690632827, 'camp'),\n",
              " (-10.40709548323602, 'said dr'),\n",
              " (-10.406209788868718, 'finger'),\n",
              " (-10.40572946933769, 'vaccin'),\n",
              " (-10.405300637697723, 'offic'),\n",
              " (-10.405249553820278, 'north korea'),\n",
              " (-10.404555963889209, 'enterpris'),\n",
              " (-10.404247578180692, 'conclud'),\n",
              " (-10.404235774002714, 'unexpect'),\n",
              " (-10.40332260417367, 'earlier month'),\n",
              " (-10.403084216038145, 'lawmak'),\n",
              " (-10.402835006989456, 'rock sioux'),\n",
              " (-10.402063918991663, 'repeal'),\n",
              " (-10.401515737607857, 'presid donald trump'),\n",
              " (-10.401153138863684, 'reluct'),\n",
              " (-10.401126484600983, 'opposit'),\n",
              " (-10.401112650603425, 'permiss'),\n",
              " (-10.400484593215394, 'manag'),\n",
              " (-10.399694876513315, 'unit nation'),\n",
              " (-10.39952733715914, 'fault'),\n",
              " (-10.399512948197701, 'reson'),\n",
              " (-10.399466030927307, 'shi'),\n",
              " (-10.39903192739646, 'maduro'),\n",
              " (-10.398174785808704, 'except'),\n",
              " (-10.39729095677975, 'earthquak'),\n",
              " (-10.396456477313384, 'vermont'),\n",
              " (-10.395764526947678, 'imprison'),\n",
              " (-10.394857114244576, 'venu'),\n",
              " (-10.393766587330362, 'emot'),\n",
              " (-10.393696829954322, 'courtesi'),\n",
              " (-10.39364799899718, 'pound'),\n",
              " (-10.392965174444898, 'fifth'),\n",
              " (-10.39272303028009, 'construct'),\n",
              " (-10.391783717806415, 'central'),\n",
              " (-10.390642402964506, 'achiev'),\n",
              " (-10.390555385091377, 'climb'),\n",
              " (-10.390315778172484, 'accomplish'),\n",
              " (-10.38931397533598, 'time'),\n",
              " (-10.389103363104221, 'mr comey'),\n",
              " (-10.388890552965318, 'armor'),\n",
              " (-10.38842377743825, 'reflect'),\n",
              " (-10.388329832886196, 'variou'),\n",
              " (-10.38810235344373, 'dirti'),\n",
              " (-10.38802685703438, 'calif'),\n",
              " (-10.387674729124917, 'club'),\n",
              " (-10.387252921583498, 'miss'),\n",
              " (-10.386715215016842, 'ii'),\n",
              " (-10.385705125688013, 'decept'),\n",
              " (-10.38545085341985, 'america'),\n",
              " (-10.384931187092468, 'french'),\n",
              " (-10.383637510816424, 'peac'),\n",
              " (-10.382282201503642, 'chosen'),\n",
              " (-10.381959987731355, 'extern'),\n",
              " (-10.380640451077168, 'relat'),\n",
              " (-10.380616482631245, 'dare'),\n",
              " (-10.378136820664542, 'roosevelt'),\n",
              " (-10.376769670616547, 'duck'),\n",
              " (-10.376746967966707, 'clark'),\n",
              " (-10.37623900685934, 'due'),\n",
              " (-10.375882152697654, 'reader'),\n",
              " (-10.375517339898794, 'featur'),\n",
              " (-10.375380856505318, 'structur'),\n",
              " (-10.375376914886546, 'kitchen'),\n",
              " (-10.37512049447013, 'disproportion'),\n",
              " (-10.374592946296957, 'rubio'),\n",
              " (-10.374419922800183, 'sent'),\n",
              " (-10.374367428564028, 'historian'),\n",
              " (-10.373483694644406, 'pin'),\n",
              " (-10.37262203760666, 'fellow'),\n",
              " (-10.370004092125484, 'whole'),\n",
              " (-10.369597547989084, 'german'),\n",
              " (-10.368983136248378, 'data'),\n",
              " (-10.368877963583708, 'trump'),\n",
              " (-10.368193441900067, 'twenti'),\n",
              " (-10.368134006384903, 'stretch'),\n",
              " (-10.367980929690887, 'terri'),\n",
              " (-10.366699450719478, 'communist'),\n",
              " (-10.366136570551737, 'juror'),\n",
              " (-10.3659304251984, 'isil'),\n",
              " (-10.364859244341785, 'irish'),\n",
              " (-10.364781123688953, 'properli'),\n",
              " (-10.36468466426052, 'radic'),\n",
              " (-10.364357639980177, 'propon'),\n",
              " (-10.364102055898146, 'say'),\n",
              " (-10.364043826372159, 'fox news'),\n",
              " (-10.363840440748138, 'basi'),\n",
              " (-10.363276276012483, 'pray'),\n",
              " (-10.362739204089898, 'hostil'),\n",
              " (-10.362294451849603, 'dr'),\n",
              " (-10.361561543129923, 'insid'),\n",
              " (-10.361209879908074, 'wore'),\n",
              " (-10.360706701724805, 'desir'),\n",
              " (-10.35948682697183, 'pari'),\n",
              " (-10.358057799398054, 'live'),\n",
              " (-10.35784119178201, 'singl'),\n",
              " (-10.357769776585876, 'involv'),\n",
              " (-10.356751784399528, 'speci'),\n",
              " (-10.356476269704084, 'persecut'),\n",
              " (-10.35632155940655, 'thrive'),\n",
              " (-10.355268865206247, 'ear'),\n",
              " (-10.354641015061183, 'project'),\n",
              " (-10.354302455051199, 'nusra'),\n",
              " (-10.354133967948595, 'district'),\n",
              " (-10.35350902224663, 'monetari'),\n",
              " (-10.3527589832503, 'novel'),\n",
              " (-10.35252019587833, 'question whether'),\n",
              " (-10.351943926687866, 'unemploy'),\n",
              " (-10.351351451255734, 'south korean'),\n",
              " (-10.351229783138102, 'consult'),\n",
              " (-10.350858081360215, 'univers'),\n",
              " (-10.35067289756827, 'clinton would'),\n",
              " (-10.350528935687876, 'fox'),\n",
              " (-10.350028077735576, 'work class'),\n",
              " (-10.349056214072936, 'vs'),\n",
              " (-10.348631978791913, 'hospit'),\n",
              " (-10.347832391502598, 'lucki'),\n",
              " (-10.347675002397562, 'scope'),\n",
              " (-10.347497408644307, 'congression'),\n",
              " (-10.346695524216022, 'chief execut'),\n",
              " (-10.34656387914016, 'probabl'),\n",
              " (-10.345077865824273, 'flint'),\n",
              " (-10.344383298883335, 'japan'),\n",
              " (-10.343901184007969, 'sign'),\n",
              " (-10.343096253893231, 'clinton foundat'),\n",
              " (-10.343069883419524, 'strong'),\n",
              " (-10.342990199278551, 'mani peopl'),\n",
              " (-10.342875644851475, 'squad'),\n",
              " (-10.342470464933037, 'homicid'),\n",
              " (-10.341641874110344, 'advisori'),\n",
              " (-10.341189813402252, 'given'),\n",
              " (-10.341091975097545, 'clock'),\n",
              " (-10.340442256302236, 'repli'),\n",
              " (-10.339609451288904, 'wrongdo'),\n",
              " (-10.339602046552761, 'news confer'),\n",
              " (-10.339436579053276, 'clue'),\n",
              " (-10.338842061788071, 'hidden'),\n",
              " (-10.337870898945837, 'polic depart'),\n",
              " (-10.336668360818889, 'black live'),\n",
              " (-10.336064768630889, 'vice'),\n",
              " (-10.335182747876116, 'swedish'),\n",
              " (-10.33458706514549, 'mock'),\n",
              " (-10.334154311034853, 'penalti'),\n",
              " (-10.333427203276251, 'clinton'),\n",
              " (-10.333254981266338, 'serious'),\n",
              " (-10.3328383729517, 'style'),\n",
              " (-10.332479829962555, 'accept'),\n",
              " (-10.332308296429495, 'tennesse'),\n",
              " (-10.331791550650749, 'robert'),\n",
              " (-10.33099724351705, 'pledg'),\n",
              " (-10.329719031558222, 'hold'),\n",
              " (-10.329445662350059, 'let us'),\n",
              " (-10.327177313557906, 'warrant'),\n",
              " (-10.326628035064523, 'probe'),\n",
              " (-10.326402238618552, 'energi'),\n",
              " (-10.32577086360775, 'within'),\n",
              " (-10.325704448908485, 'expans'),\n",
              " (-10.324566463586136, 'infect'),\n",
              " (-10.324441598102034, 'arabia'),\n",
              " (-10.323881521964584, 'short'),\n",
              " (-10.322798757675494, 'former presid'),\n",
              " (-10.3226065857496, 'scholar'),\n",
              " (-10.32213879433274, 'slave'),\n",
              " (-10.321326610184645, 'fleet'),\n",
              " (-10.321088209441957, 'heat'),\n",
              " (-10.320759479677992, 'cafe'),\n",
              " (-10.320256380206454, 'georg soro'),\n",
              " (-10.318608122248566, 'one person'),\n",
              " (-10.318544475027545, 'spray'),\n",
              " (-10.317971569692395, 'neighbor'),\n",
              " (-10.317636534714536, 'throw'),\n",
              " (-10.317467968238985, 'buy'),\n",
              " (-10.31738514309368, 'fourth'),\n",
              " (-10.317380613315223, 'indiana'),\n",
              " (-10.31672182237678, 'heaven'),\n",
              " (-10.316335759011265, 'felt like'),\n",
              " (-10.316309737798733, 'suppli'),\n",
              " (-10.316020092597395, 'absorb'),\n",
              " (-10.31486908947934, 'hous republican'),\n",
              " (-10.314858036936178, 'pot'),\n",
              " (-10.314175606231778, 'endang'),\n",
              " (-10.313914794362256, 'referendum'),\n",
              " (-10.313217763012567, 'key twitter pamkeynen'),\n",
              " (-10.312166969029736, 'billionair'),\n",
              " (-10.310062821059606, 'liabil'),\n",
              " (-10.309852826757668, 'invad'),\n",
              " (-10.309188787512026, 'clarifi'),\n",
              " (-10.308801451391023, 'foster'),\n",
              " (-10.308763982574972, 'offens'),\n",
              " (-10.308537799492404, 'melania'),\n",
              " (-10.308320353026774, 'tell'),\n",
              " (-10.308190174612406, 'perfect'),\n",
              " (-10.30809683204424, 'higher'),\n",
              " (-10.307583500166734, 'price'),\n",
              " (-10.306453966578811, 'pant'),\n",
              " (-10.305608785243765, 'dream'),\n",
              " (-10.304577361685585, 'yeah'),\n",
              " (-10.30428723555391, 'said thursday'),\n",
              " (-10.303953085040407, 'white hous'),\n",
              " (-10.303481399456022, 'exact'),\n",
              " (-10.302797006652032, 'schumer'),\n",
              " (-10.30266961915485, 'entertain'),\n",
              " (-10.301859149531307, 'buri'),\n",
              " (-10.30122815434288, 'certif'),\n",
              " (-10.30089142314788, 'perri'),\n",
              " (-10.300449699265897, 'requir'),\n",
              " (-10.300233918658764, 'one mani'),\n",
              " (-10.300039567776208, 'draw'),\n",
              " (-10.299772710231304, 'crown'),\n",
              " (-10.29975943977892, 'could see'),\n",
              " (-10.299732296103594, 'visual'),\n",
              " (-10.299303015017724, 'escal'),\n",
              " (-10.299176543614381, 'bradi'),\n",
              " (-10.299109560548638, 'concret'),\n",
              " (-10.298563283150253, 'longtim'),\n",
              " (-10.29844906725135, 'bundi'),\n",
              " (-10.297213133606451, 'occasion'),\n",
              " (-10.297010048427033, 'mainstream media'),\n",
              " (-10.296667182641627, 'presum'),\n",
              " (-10.296099358630029, 'chant'),\n",
              " (-10.29508377166707, 'metropolitan'),\n",
              " (-10.294754127478075, 'men'),\n",
              " (-10.294476216127537, 'comput'),\n",
              " (-10.293931868731324, 'sever'),\n",
              " (-10.293917241625998, 'hurt'),\n",
              " (-10.29390401584072, 'infowar com'),\n",
              " (-10.293622460407224, 'trump also'),\n",
              " (-10.290967455394654, 'warm'),\n",
              " (-10.29055356948914, 'reject'),\n",
              " (-10.288605508311216, 'speaker paul'),\n",
              " (-10.28757989524904, 'polit system'),\n",
              " (-10.28743818360114, 'adversari'),\n",
              " (-10.287241099611796, 'surrog'),\n",
              " (-10.286382192442188, 'instead'),\n",
              " (-10.286371984988582, 'survivor'),\n",
              " (-10.28527129327223, 'thursday'),\n",
              " (-10.283499841608986, 'perform'),\n",
              " (-10.282802097959475, 'fierc'),\n",
              " (-10.282208212775792, 'librari'),\n",
              " (-10.282058267832502, 'howev'),\n",
              " (-10.281849932343158, 'struggl'),\n",
              " (-10.280937085304096, 'terror'),\n",
              " (-10.28068064253448, 'earli'),\n",
              " (-10.280177984589013, 'thousand peopl'),\n",
              " (-10.279825054516223, 'licens'),\n",
              " (-10.279132610839019, 'throne'),\n",
              " (-10.277456320036352, 'new yorker'),\n",
              " (-10.277310609676638, 'apolog'),\n",
              " (-10.276924472559054, 'clinton email'),\n",
              " (-10.276531675876676, 'left'),\n",
              " (-10.276326524470274, 'saint'),\n",
              " (-10.27602780706924, 'resembl'),\n",
              " (-10.275385276811985, 'memo'),\n",
              " (-10.27456563451861, 'murray'),\n",
              " (-10.274463723424162, 'confidenti'),\n",
              " (-10.274272466276344, 'sovereignti'),\n",
              " (-10.273898450228717, 'exagger'),\n",
              " (-10.273691631929943, 'height'),\n",
              " (-10.273394529458624, 'pre'),\n",
              " (-10.272379268976607, 'richard'),\n",
              " (-10.272372885282083, 'like see'),\n",
              " (-10.271900829096772, 'said email'),\n",
              " (-10.270933054987037, 'domin'),\n",
              " (-10.270611081966203, 'pet'),\n",
              " (-10.270373136217657, 'everybodi'),\n",
              " (-10.269772260113177, 'broader'),\n",
              " (-10.269394589495668, 'liber'),\n",
              " (-10.268467709366677, 'inc'),\n",
              " (-10.268413974464453, 'julian'),\n",
              " (-10.268112067735471, 'gone'),\n",
              " (-10.267598687166654, 'expert say'),\n",
              " (-10.267330869732076, 'manner'),\n",
              " (-10.266339175554942, 'three year'),\n",
              " (-10.265881583495684, 'push back'),\n",
              " (-10.265745082075362, 'math'),\n",
              " (-10.264297079625125, 'two decad'),\n",
              " (-10.264166698872444, 'barack obama'),\n",
              " (-10.264045166528282, 'horror'),\n",
              " (-10.263322788824013, 'deem'),\n",
              " (-10.2628735355301, 'siriusxm'),\n",
              " (-10.262802065817402, 'besid'),\n",
              " (-10.262525145783602, 'length'),\n",
              " (-10.262229984711597, 'code'),\n",
              " (-10.261367791606801, 'assassin'),\n",
              " (-10.261342406298597, 'state senat'),\n",
              " (-10.260923977409828, 'organis'),\n",
              " (-10.260824635581729, 'aleppo'),\n",
              " (-10.2607149304725, 'american citizen'),\n",
              " (-10.260256468884362, 'flower'),\n",
              " (-10.26018154746408, 'elsewher'),\n",
              " (-10.257683590843593, 'depict'),\n",
              " (-10.257676845012972, 'concert'),\n",
              " (-10.25752876886488, 'januari'),\n",
              " (-10.257244652109238, 'transport'),\n",
              " (-10.256329113608194, 'trip'),\n",
              " (-10.256097923764319, 'recogn'),\n",
              " (-10.255905961512227, 'crucial'),\n",
              " (-10.255537716798472, 'state univers'),\n",
              " (-10.255192181544146, 'environ'),\n",
              " (-10.255161245602604, 'scan'),\n",
              " (-10.254865973618093, 'chanc'),\n",
              " (-10.254799086454389, 'afternoon'),\n",
              " (-10.254704541895364, 'cold'),\n",
              " (-10.253621820640884, 'depart justic'),\n",
              " (-10.253611272149584, 'tax return'),\n",
              " (-10.253286808303667, 'slogan'),\n",
              " (-10.252934937221333, 'architect'),\n",
              " (-10.252426860788729, 'govern'),\n",
              " (-10.252346561464602, 'chancellor'),\n",
              " (-10.251958612329236, 'boat'),\n",
              " (-10.251769370101997, 'ha'),\n",
              " (-10.251729498666865, 'electr'),\n",
              " (-10.251604834435197, 'reuter'),\n",
              " (-10.250071143461877, 'sing'),\n",
              " (-10.248961287614724, 'alert'),\n",
              " (-10.248118985444505, 'anyon els'),\n",
              " (-10.24791385124702, 'design'),\n",
              " (-10.247865371563346, 'ventur'),\n",
              " (-10.245376554155019, 'hour'),\n",
              " (-10.244924018155853, 'rock'),\n",
              " (-10.244877700084043, 'make america great'),\n",
              " (-10.244776052957581, 'donald'),\n",
              " (-10.244574698562339, 'civil liberti'),\n",
              " (-10.244541358705112, 'usual'),\n",
              " (-10.244477256269962, 'disput'),\n",
              " (-10.244092136924278, 'griffin'),\n",
              " (-10.243725415949788, 'equip'),\n",
              " (-10.243018896093563, 'kadzik'),\n",
              " (-10.241238955529429, 'sister'),\n",
              " (-10.241179763592777, 'director'),\n",
              " (-10.240973697124318, 'theresa'),\n",
              " (-10.239554006191934, 'pic twitter'),\n",
              " (-10.239469293093407, 'banner'),\n",
              " (-10.23897179304312, 'american peopl'),\n",
              " (-10.238691441153748, 'make america'),\n",
              " (-10.237916321113582, 'estat'),\n",
              " (-10.237688335975319, 'entitl'),\n",
              " (-10.237020231643484, 'career'),\n",
              " (-10.236938754083834, 'second'),\n",
              " (-10.236609317222575, 'countri'),\n",
              " (-10.235311542836225, 'rapidli'),\n",
              " (-10.23460187955302, 'domest'),\n",
              " (-10.234110904846297, 'el'),\n",
              " (-10.23274034789251, 'ministri'),\n",
              " (-10.231451861505564, 'membership'),\n",
              " (-10.230471817671447, 'beneath'),\n",
              " (-10.230351215423795, 'wood'),\n",
              " (-10.22933583500958, 'johnson'),\n",
              " (-10.228845365395948, 'oversight'),\n",
              " (-10.228584547692515, 'financi crisi'),\n",
              " (-10.22799203971487, 'muhammad'),\n",
              " (-10.226980110731184, 'dismantl'),\n",
              " (-10.225985166952126, 'clear'),\n",
              " (-10.225443859235902, 'ride'),\n",
              " (-10.225268654260354, 'kain'),\n",
              " (-10.224867393552508, 'behavior'),\n",
              " (-10.224530835984472, 'offshor'),\n",
              " (-10.224217817381497, 'mine'),\n",
              " (-10.224204254574593, 'go'),\n",
              " (-10.224024039926801, 'jeff'),\n",
              " (-10.223488203328072, 'confer'),\n",
              " (-10.222269539071926, 'phelp'),\n",
              " (-10.221013819496498, 'enabl'),\n",
              " (-10.2207805099752, 'concern'),\n",
              " (-10.220677572122987, 'base'),\n",
              " (-10.220429452502106, 'empir'),\n",
              " (-10.21960132544944, 'creator'),\n",
              " (-10.219195470186978, 'tenni'),\n",
              " (-10.217973843239236, 'worship'),\n",
              " (-10.21640943937096, 'took'),\n",
              " (-10.215969486402456, 'dear'),\n",
              " (-10.215888337855311, 'boundari'),\n",
              " (-10.21463149972632, 'motiv'),\n",
              " (-10.214369049518616, 'charlott'),\n",
              " (-10.21349654663987, 'visit'),\n",
              " (-10.212116092918269, 'let go'),\n",
              " (-10.211666462271944, 'say would'),\n",
              " (-10.211470047672435, 'sidewalk'),\n",
              " (-10.210534802056925, 'erupt'),\n",
              " (-10.210508934259638, 'passion'),\n",
              " (-10.210448535981886, 'boycott'),\n",
              " (-10.20982310308382, 'isi'),\n",
              " (-10.20972305483268, 'battl'),\n",
              " (-10.209091768919922, 'attempt'),\n",
              " (-10.207427434548807, 'photograph'),\n",
              " (-10.206624180084923, 'ocean'),\n",
              " (-10.206033179937483, 'texa'),\n",
              " (-10.205606174990018, 'chemic weapon'),\n",
              " (-10.205254480210046, 'marketplac'),\n",
              " (-10.204798558926527, 'million peopl'),\n",
              " (-10.2032402062385, 'feder court'),\n",
              " (-10.203103419130759, 'lover'),\n",
              " (-10.20285815152356, 'stall'),\n",
              " (-10.202832484517593, 'insur compani'),\n",
              " (-10.202495333081231, 'exhaust'),\n",
              " (-10.202406690736098, 'england'),\n",
              " (-10.202350735850272, 'sweet'),\n",
              " (-10.202165828619714, 'volunt'),\n",
              " (-10.201836360576893, 'ap'),\n",
              " (-10.201766404706069, 'regret'),\n",
              " (-10.20132062473782, 'simpli'),\n",
              " (-10.20121992728288, 'examin'),\n",
              " (-10.20054059539473, 'chapter'),\n",
              " (-10.200106949887216, 'republ'),\n",
              " (-10.198624390294233, 'wolf'),\n",
              " (-10.198303589578547, 'interior'),\n",
              " (-10.198070501092849, 'duti'),\n",
              " (-10.197535499455705, 'learn'),\n",
              " (-10.197249443370833, 'work mr'),\n",
              " (-10.196820929735082, 'mr trump also'),\n",
              " (-10.19614726737433, 'star'),\n",
              " (-10.196075441620517, 'joe'),\n",
              " (-10.195057660514358, 'politician'),\n",
              " (-10.19493597194312, 'fake'),\n",
              " (-10.19490926766125, 'grow'),\n",
              " (-10.194692453873484, 'mexican'),\n",
              " (-10.194463348809055, 'gestur'),\n",
              " (-10.194446399723102, 'session'),\n",
              " (-10.194321977347807, 'spell'),\n",
              " (-10.193728534075257, 'judici'),\n",
              " (-10.193180397005419, 'twice'),\n",
              " (-10.19301352683288, 'script'),\n",
              " (-10.192959224917644, 'map'),\n",
              " (-10.19275592672068, 'frighten'),\n",
              " (-10.192704053227704, 'sadli'),\n",
              " (-10.19248001200498, 'resign'),\n",
              " (-10.19097014572266, 'render'),\n",
              " (-10.190929685020784, 'delight'),\n",
              " (-10.190083220579274, 'contrast'),\n",
              " (-10.190011469960812, 'contamin'),\n",
              " (-10.1893889989465, 'addit'),\n",
              " (-10.189377772448788, 'girl'),\n",
              " (-10.186549849926404, 'condit'),\n",
              " (-10.186248353854069, 'unanim'),\n",
              " (-10.186209777628207, 'va'),\n",
              " (-10.186108399767067, 'thursday night'),\n",
              " (-10.185785231306943, 'repair'),\n",
              " (-10.185567117879591, 'region'),\n",
              " (-10.185526332093126, 'juic'),\n",
              " (-10.185095841937128, 'hundr thousand'),\n",
              " (-10.18508002158209, 'fed'),\n",
              " (-10.18504397394695, 'sold'),\n",
              " (-10.18432782261761, 'travel'),\n",
              " (-10.183438348475718, 'campu'),\n",
              " (-10.182850764714974, 'request'),\n",
              " (-10.1827424333693, 'media'),\n",
              " (-10.181860454964886, 'said last'),\n",
              " (-10.18181850071026, 'mirror'),\n",
              " (-10.181449829977662, 'task'),\n",
              " (-10.181405700392967, 'vessel'),\n",
              " (-10.181266828376506, 'poland'),\n",
              " (-10.181255129741272, 'sand'),\n",
              " (-10.181172116008463, 'plate'),\n",
              " (-10.181073467200841, 'weiner'),\n",
              " (-10.181054165456949, 'holi'),\n",
              " (-10.180998144200624, 'togeth'),\n",
              " (-10.180831366865227, 'half'),\n",
              " (-10.180805018108133, 'debut'),\n",
              " (-10.180281920638848, 'libertarian'),\n",
              " (-10.179618566274826, 'compani'),\n",
              " (-10.179606132402895, 'one anoth'),\n",
              " (-10.179596795695858, 'locat'),\n",
              " (-10.179398895850214, 'suddenli'),\n",
              " ...]"
            ]
          },
          "metadata": {},
          "execution_count": 54
        }
      ]
    },
    {
      "cell_type": "markdown",
      "metadata": {
        "id": "t_3NFsGmZfU3"
      },
      "source": [
        "HashingVectorizer"
      ]
    },
    {
      "cell_type": "code",
      "metadata": {
        "id": "TEYt6AEFZOXD"
      },
      "source": [
        "hs_vectorizer = HashingVectorizer(n_features=5000, alternate_sign=False) #,negative=False)\n",
        "X=hs_vectorizer.fit_transform(corpus).toarray()"
      ],
      "execution_count": 39,
      "outputs": []
    },
    {
      "cell_type": "code",
      "metadata": {
        "colab": {
          "base_uri": "https://localhost:8080/"
        },
        "id": "n7eyJ34_galh",
        "outputId": "3ae827ec-8db9-443a-c1f5-729b4b691801"
      },
      "source": [
        "X.shape"
      ],
      "execution_count": 41,
      "outputs": [
        {
          "output_type": "execute_result",
          "data": {
            "text/plain": [
              "(18283, 5000)"
            ]
          },
          "metadata": {},
          "execution_count": 41
        }
      ]
    },
    {
      "cell_type": "code",
      "metadata": {
        "colab": {
          "base_uri": "https://localhost:8080/"
        },
        "id": "jmxIaQM8gdkv",
        "outputId": "2a4e8170-807f-48a9-f9db-2ed4f5a8b0a6"
      },
      "source": [
        "X"
      ],
      "execution_count": 42,
      "outputs": [
        {
          "output_type": "execute_result",
          "data": {
            "text/plain": [
              "array([[0.        , 0.15922347, 0.        , ..., 0.        , 0.        ,\n",
              "        0.        ],\n",
              "       [0.        , 0.03785056, 0.        , ..., 0.        , 0.        ,\n",
              "        0.        ],\n",
              "       [0.        , 0.02285155, 0.        , ..., 0.        , 0.        ,\n",
              "        0.        ],\n",
              "       ...,\n",
              "       [0.        , 0.        , 0.        , ..., 0.        , 0.        ,\n",
              "        0.        ],\n",
              "       [0.        , 0.        , 0.        , ..., 0.        , 0.        ,\n",
              "        0.        ],\n",
              "       [0.        , 0.06880662, 0.        , ..., 0.        , 0.        ,\n",
              "        0.        ]])"
            ]
          },
          "metadata": {},
          "execution_count": 42
        }
      ]
    },
    {
      "cell_type": "code",
      "metadata": {
        "id": "--zD-6hDgnvo"
      },
      "source": [
        "## Divide the dataset into Train and Test\n",
        "from sklearn.model_selection import train_test_split\n",
        "X_train, X_test, y_train, y_test = train_test_split(X, y, test_size=0.33, random_state=0)"
      ],
      "execution_count": 43,
      "outputs": []
    },
    {
      "cell_type": "code",
      "metadata": {
        "colab": {
          "base_uri": "https://localhost:8080/",
          "height": 345
        },
        "id": "rqEALL_7gs6U",
        "outputId": "47f7c416-4032-4192-b812-4ea60fad4a6e"
      },
      "source": [
        "from sklearn.naive_bayes import MultinomialNB\n",
        "classifier=MultinomialNB()\n",
        "classifier.fit(X_train, y_train)\n",
        "pred = classifier.predict(X_test)\n",
        "score = metrics.accuracy_score(y_test, pred)\n",
        "print(\"accuracy:   %0.3f\" % score)\n",
        "cm = metrics.confusion_matrix(y_test, pred)\n",
        "plot_confusion_matrix(cm, classes=['FAKE', 'REAL'])"
      ],
      "execution_count": 44,
      "outputs": [
        {
          "output_type": "stream",
          "name": "stdout",
          "text": [
            "accuracy:   0.875\n",
            "Confusion matrix, without normalization\n"
          ]
        },
        {
          "output_type": "display_data",
          "data": {
            "image/png": "[encoded data removed]",
            "text/plain": [
              "<Figure size 432x288 with 2 Axes>"
            ]
          },
          "metadata": {
            "needs_background": "light"
          }
        }
      ]
    },
    {
      "cell_type": "code",
      "metadata": {
        "id": "mSsJcTlpw5B7"
      },
      "source": [
        ""
      ],
      "execution_count": null,
      "outputs": []
    }
  ]
}